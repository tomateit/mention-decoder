{
 "cells": [
  {
   "cell_type": "markdown",
   "id": "ccd52ba9-b8c3-46f3-960d-d1d768402e84",
   "metadata": {},
   "source": [
    "# Decoding the same entity by it's mention"
   ]
  },
  {
   "cell_type": "markdown",
   "id": "042c3f73-df6b-4252-8b2a-8e45f4336088",
   "metadata": {},
   "source": [
    "For this experiment I will try to decode the sentences with some mentions of a named entity so that decoded sentence will contain the entity."
   ]
  },
  {
   "cell_type": "markdown",
   "id": "b3dfce77-b7dd-4f39-93c2-0df34372d723",
   "metadata": {},
   "source": [
    "1. Decoded passage must contain the named entity\n",
    "2. Enhancement: the passage must be non-contradictive to the original\n",
    "3. Enhancement: change target from text to rdf"
   ]
  },
  {
   "cell_type": "markdown",
   "id": "fbbc98b9-87e8-46ca-adf1-51af828d00e0",
   "metadata": {
    "id": "z7HqGOWSWZ9z",
    "tags": []
   },
   "source": [
    "# Setup"
   ]
  },
  {
   "cell_type": "code",
   "execution_count": 1,
   "id": "6bb99ba8-a60e-491b-96d0-938637ca7f29",
   "metadata": {
    "id": "-FekFp4Dv9wE"
   },
   "outputs": [],
   "source": [
    "import random\n",
    "from tqdm import tqdm\n",
    "import numpy as np\n",
    "import pandas as pd\n",
    "import gc\n",
    "import os\n",
    "\n",
    "import torch\n",
    "from transformers import AutoModelForSeq2SeqLM, AutoTokenizer, AutoModel, PhrasalConstraint\n",
    "from transformers.modeling_outputs import BaseModelOutput\n",
    "from datasets import load_from_disk, load_dataset"
   ]
  },
  {
   "cell_type": "code",
   "execution_count": 5,
   "id": "b73e1bcb-7309-4ce8-96cd-aaad810d321f",
   "metadata": {
    "colab": {
     "base_uri": "https://localhost:8080/"
    },
    "id": "FCt-K9BJwFyM",
    "outputId": "8a0f87ef-e74d-4199-fb8a-f609ed208268"
   },
   "outputs": [],
   "source": [
    "bert_name = 'cointegrated/LaBSE-en-ru'\n",
    "t5_name = 'cointegrated/rut5-base-labse-decoder' #I replace the decoder with pre trained for this task\n",
    "\n",
    "save_model_path = './models/rut5-base-labse-mention-decoder'\n",
    "if os.path.exists(save_model_path):\n",
    "    t5_name = save_model_path\n",
    "    print(t5_name)"
   ]
  },
  {
   "cell_type": "code",
   "execution_count": 6,
   "id": "aacb68b1-004a-4131-973e-058d2ac3dc24",
   "metadata": {
    "colab": {
     "base_uri": "https://localhost:8080/",
     "height": 252,
     "referenced_widgets": [
      "b79c378067a245198a222fcdced94888",
      "1962a31f80c54186bc6f34f780309949",
      "df562d627eba422982ef8dec1b449302",
      "b099f3d6533a4a80bdcedca40707e52f",
      "bd91ed7da6864dc89ad2a67eab70a9fe",
      "7bfcaa69cf0641c5af99e33234983cac",
      "a192c7d44e0d49a99c6b3efa3998d7b0",
      "4aa4fd1c401849e6a645a3908949a808",
      "02d7241a76cc431891e904a41be06648",
      "8af31f7aaa7543c1ba39dad58d0e0ca9",
      "286b980ac2da4ea882c72af20d8ba233",
      "f16af0811dff468297161432c5334e84",
      "4597201db7364ce1995c7f9a7230428a",
      "bb16eb038d4340048dd43b8efd7650db",
      "2f19cf0b6f6942d68c79a75abdefa8c2",
      "adaae7938b23498085bce25a04c2a45a",
      "fb5c44abcfdd44c8bab0be53321ed3ad",
      "e0b7984194e14eeb93ec14f4897ca926",
      "e2e8fd00467749afa26199fe8edb7038",
      "08eb98c5d7604241b7d29a7c393138a3",
      "af88fc6177254fe1a5457cc03166b06b",
      "a956f191b66a442bb2775a7ea5dbc34e",
      "0fdd4b998a0e4f468053b229e7ea9550",
      "4f3ac651c2f5470e9bdc175eb717a46c",
      "c37ba8f67a0642c6a64a9d4c2a949060",
      "8066e7f3faf24934a48f7fe58cb42bb7",
      "76707a076e83433a89ecfb93c03592f8",
      "bd3ae8cd1d5a457eaa6ad824e298ae56",
      "d3be2374cc704ac18449de9b703187ae",
      "c9b108a18c0c432b9e97e45685ae2750",
      "ff78250c01b842b8bbea771af4689a26",
      "50d2cad059764f529e8de735b66d9177",
      "4d04a625a3fd4126a2ade113a8cd5a6f",
      "8674168cb97b460f85989e1ef2323671",
      "87dcc431aaf7472c97538a7a3820338d",
      "052664a24def4703b44e61f8f649d03b",
      "da2690cc77214406a2abcb779120d3f6",
      "c8fb05f02d854b8495c8907aad71f2bf",
      "2ec74c4aa19047569b39496871eda526",
      "eecb97806f894a97bbb84627c6d9950d",
      "f188c67ef83e46949afb30ed3988b15d",
      "45f47daf100a443ab513f586fb0aa3bb",
      "63e893b8e1854f4ebc0f951e3d1ce27c",
      "ac116ccc76a54f1fa8c48c12e34be35d",
      "121533c3e6264fe88e076a8cfd49541d",
      "ad4ebfcc526d4f3d9ad014c76fdf5d6b",
      "885951ae558b47bca66766313ce19db0",
      "d9e7f8da5937471a8219b27f9671ed5e",
      "e71b15083bf44094bbc0cb5e6f9bbcc0",
      "5deda7b115ab4c8db55ee719bd26624f",
      "3053179f334848e4870fda5d76c6c6b6",
      "4c142303c14345c08a419c3e06fc039b",
      "521627c186464a2b934c6ec84080dec9",
      "09c3e772ce4940ebae45c68e18b54b7f",
      "95f25fdcb3054462bbff126b775e01c8"
     ]
    },
    "id": "2jnLTX23x9y-",
    "outputId": "69367d0a-d84d-4eaf-817f-84d1cc0c7d65"
   },
   "outputs": [
    {
     "name": "stderr",
     "output_type": "stream",
     "text": [
      "Some weights of the model checkpoint at cointegrated/LaBSE-en-ru were not used when initializing BertModel: ['cls.seq_relationship.weight', 'cls.predictions.decoder.weight', 'cls.predictions.bias', 'cls.predictions.decoder.bias', 'cls.predictions.transform.LayerNorm.bias', 'cls.predictions.transform.LayerNorm.weight', 'cls.seq_relationship.bias', 'cls.predictions.transform.dense.weight', 'cls.predictions.transform.dense.bias']\n",
      "- This IS expected if you are initializing BertModel from the checkpoint of a model trained on another task or with another architecture (e.g. initializing a BertForSequenceClassification model from a BertForPreTraining model).\n",
      "- This IS NOT expected if you are initializing BertModel from the checkpoint of a model that you expect to be exactly identical (initializing a BertForSequenceClassification model from a BertForSequenceClassification model).\n"
     ]
    }
   ],
   "source": [
    "enc_tokenizer = AutoTokenizer.from_pretrained(bert_name)\n",
    "encoder = AutoModel.from_pretrained(bert_name).cuda()"
   ]
  },
  {
   "cell_type": "code",
   "execution_count": 7,
   "id": "4234cf42-057f-44dd-a8aa-c46d4f50c192",
   "metadata": {
    "id": "mkmvqO2Yxwin"
   },
   "outputs": [],
   "source": [
    "dec_tokenizer = AutoTokenizer.from_pretrained(t5_name)\n",
    "decoder = AutoModelForSeq2SeqLM.from_pretrained(t5_name).cuda()"
   ]
  },
  {
   "cell_type": "code",
   "execution_count": 8,
   "id": "f4c97c2e-fe92-40be-9612-886bebf7ddd2",
   "metadata": {
    "id": "2bGxHBL70OvD"
   },
   "outputs": [],
   "source": [
    "def decode(embeddings, max_length=256, repetition_penalty=3.0, **kwargs):\n",
    "    out = decoder.generate(\n",
    "        encoder_outputs=BaseModelOutput(last_hidden_state=embeddings.unsqueeze(1)), \n",
    "        max_length=max_length, \n",
    "        repetition_penalty=repetition_penalty,\n",
    "    )\n",
    "    return [dec_tokenizer.decode(tokens, skip_special_tokens=True) for tokens in out]"
   ]
  },
  {
   "cell_type": "markdown",
   "id": "1a225786-924a-401f-b30d-f3036f569fde",
   "metadata": {
    "id": "FHW13GML0JBS"
   },
   "source": [
    "# Data"
   ]
  },
  {
   "cell_type": "code",
   "execution_count": 9,
   "id": "5d23b69e-5c7a-47bb-89cd-de9c18c8c986",
   "metadata": {},
   "outputs": [],
   "source": [
    "import json\n",
    "from pathlib import Path\n",
    "from custom_types import Sample\n",
    "\n",
    "\n",
    "data_dir = Path(\"./data\")\n",
    "data_path = next(data_dir.iterdir())"
   ]
  },
  {
   "cell_type": "code",
   "execution_count": 10,
   "id": "480a5e24-5a85-457a-9d4b-d12a2f0e5f0c",
   "metadata": {},
   "outputs": [],
   "source": [
    "with data_path.open(\"r\") as fin:\n",
    "    data = json.load(fin)\n",
    "    data = list(map(Sample.from_dict, data))"
   ]
  },
  {
   "cell_type": "code",
   "execution_count": 9,
   "id": "7203e98c-bd42-4cef-88a7-fe03f32dcf03",
   "metadata": {},
   "outputs": [
    {
     "data": {
      "text/plain": [
       "'\"Интер РАО\" продолжает рассматривать возможность размещать активы на других международных рынках.'"
      ]
     },
     "execution_count": 9,
     "metadata": {},
     "output_type": "execute_result"
    }
   ],
   "source": [
    "paraphrase(\"'Интер РАО' продолжает рассматривать возможность размещения активов на других международных площадках.\",gram=4)"
   ]
  },
  {
   "cell_type": "code",
   "execution_count": 11,
   "id": "ce19c63e-75c0-4b89-a8fd-706b1a5ea7bd",
   "metadata": {},
   "outputs": [],
   "source": [
    "from custom_datasets import IterableJsonDataset"
   ]
  },
  {
   "cell_type": "code",
   "execution_count": 12,
   "id": "714365ed-7c82-4f49-9302-83bb02639100",
   "metadata": {},
   "outputs": [],
   "source": [
    "dataset = IterableJsonDataset(data_dir)"
   ]
  },
  {
   "cell_type": "code",
   "execution_count": 20,
   "id": "80bfc2b6-6c05-44e0-b61a-24f16460dfc5",
   "metadata": {},
   "outputs": [],
   "source": []
  },
  {
   "cell_type": "code",
   "execution_count": 21,
   "id": "a410b7c8-06bb-4dfd-9ceb-f177d1e15f97",
   "metadata": {
    "id": "KkT_2MnZyKut"
   },
   "outputs": [],
   "source": [
    "def encode(samples: list[Sample]):\n",
    "    \n",
    "    # Encode\n",
    "    texts = [s.text for s in samples]\n",
    "    encoded_input = enc_tokenizer(texts, padding=True, truncation=True, max_length=512, return_tensors='pt')\n",
    "    decoded_input = [enc_tokenizer.batch_decode(x) for x in encoded_input[\"input_ids\"]]\n",
    "    # Align tokens with entity span\n",
    "    entity_spans = locate_spans(decoded_input, samples)\n",
    "        \n",
    "    with torch.no_grad():\n",
    "        model_output = encoder(**encoded_input.to(encoder.device))\n",
    "        embeddings = []\n",
    "        for text_tensor, (entity_start, entity_end) in zip(model_output.last_hidden_state, entity_spans): # (sample, tokens, dim)\n",
    "            # print(text_tensor.shape)\n",
    "            entity_tensor = text_tensor[entity_start:entity_end+1] # (end-start+1, dim)\n",
    "            # print(entity_tensor.shape, entity_start, entity_end)\n",
    "            entity_vector = torch.mean(entity_tensor, dim=0)\n",
    "            # print(entity_vector.shape)\n",
    "            embeddings.append(entity_vector)\n",
    "            \n",
    "        embeddings = torch.vstack(embeddings) # [(dim)]*n -> (n, dim)\n",
    "        # print(embeddings.shape)\n",
    "        embeddings = torch.nn.functional.normalize(embeddings)\n",
    "    return embeddings"
   ]
  },
  {
   "cell_type": "code",
   "execution_count": 214,
   "id": "773f13ac-4693-45e3-ad51-68ab9034d132",
   "metadata": {
    "id": "VOPJVOCWs49j"
   },
   "outputs": [],
   "source": [
    "def encode_noisy(texts, unnorm_share='random'):\n",
    "    encoded_input = enc_tokenizer(texts, padding=True, truncation=True, max_length=512, return_tensors='pt')\n",
    "    with torch.no_grad():\n",
    "        model_output = encoder(**encoded_input.to(encoder.device))\n",
    "        embeddings = model_output.pooler_output\n",
    "        embeddings_norm = torch.nn.functional.normalize(embeddings)\n",
    "        if unnorm_share == 'random':\n",
    "            unnorm_share = random.choice([0, 0, random.random(), 1])\n",
    "        if unnorm_share:\n",
    "            embeddings = embeddings * (1-unnorm_share) + embeddings_norm * unnorm_share\n",
    "    return embeddings"
   ]
  },
  {
   "cell_type": "markdown",
   "id": "c76f43f9-768a-45fb-951a-3f5a719f3787",
   "metadata": {
    "id": "dz2CGuGvWdXM"
   },
   "source": [
    "# Training"
   ]
  },
  {
   "cell_type": "code",
   "execution_count": 15,
   "id": "32c6f703-21fd-497f-b7ad-dec9e6c53763",
   "metadata": {
    "id": "ZQQRTXbk1Ozl"
   },
   "outputs": [],
   "source": [
    "for p in decoder.encoder.parameters():\n",
    "    p.requires_grad = False\n",
    "for p in decoder.decoder.parameters():\n",
    "    p.requires_grad = True"
   ]
  },
  {
   "cell_type": "code",
   "execution_count": 16,
   "id": "c64b0f60-f1b3-4f4b-a252-75c48d771337",
   "metadata": {
    "id": "6kMquDV204bW"
   },
   "outputs": [],
   "source": [
    "optimizer = torch.optim.Adam([p for p in decoder.parameters() if p.requires_grad], lr=1e-5)"
   ]
  },
  {
   "cell_type": "code",
   "execution_count": 17,
   "id": "08ba658d-a32c-4050-ba0f-b1adb0e48831",
   "metadata": {
    "id": "JSqtuJXh5W9n"
   },
   "outputs": [],
   "source": [
    "losses = []"
   ]
  },
  {
   "cell_type": "code",
   "execution_count": 18,
   "id": "2420ecbe-37fd-4296-a3f7-6de47d2361ad",
   "metadata": {},
   "outputs": [],
   "source": [
    "batch_size = 8\n",
    "# dataloader = torch.utils.data.DataLoader(dataset=dataset,collate_fn=lambda *x: x, batch_size=batch_size)\n",
    "# data_iterator = iter(dataloader)"
   ]
  },
  {
   "cell_type": "code",
   "execution_count": null,
   "id": "b15354fb-0eff-4feb-97a0-23f7a0e63fda",
   "metadata": {
    "colab": {
     "base_uri": "https://localhost:8080/",
     "height": 1000,
     "referenced_widgets": [
      "29048bedec2340aab7549b950cf97e9d",
      "dffbeda2d5df4dc3838fa8d9d60a6f7d",
      "7c2c5db9a32b440eb96968edabec11fa",
      "0d150ccddcbf48e3a61479d35f4226a4",
      "5c45f338929644db80166e6dd2f513d2",
      "d645e21ecbc3442383167fa6a850cda7",
      "300f3fd99a3e496e92c6e75e74ac9890",
      "6c1430bd84a348769f667fcc8feead07",
      "a662cd8f66dd4f36906c44a6c4583c8b",
      "d7271b7ed1a04734982d2c1b5d1cffc2",
      "0775ba14973a4e439483d9d773f668d0"
     ]
    },
    "id": "GYQv2i_v1nKE",
    "outputId": "6af6ee55-5b96-4510-d7cc-5849512624c9"
   },
   "outputs": [
    {
     "name": "stderr",
     "output_type": "stream",
     "text": [
      "  0%|                                                                                                                                | 0/1000000 [00:00<?, ?it/s]"
     ]
    },
    {
     "name": "stdout",
     "output_type": "stream",
     "text": [
      "step 0 loss 5.550827980041504\n"
     ]
    },
    {
     "name": "stderr",
     "output_type": "stream",
     "text": [
      "  0%|                                                                                                                   | 530/1000000 [01:15<40:14:41,  6.90it/s]"
     ]
    },
    {
     "name": "stdout",
     "output_type": "stream",
     "text": [
      "528 error\n"
     ]
    },
    {
     "name": "stderr",
     "output_type": "stream",
     "text": [
      "  0%|                                                                                                                  | 1000/1000000 [02:21<37:40:41,  7.37it/s]"
     ]
    },
    {
     "name": "stdout",
     "output_type": "stream",
     "text": [
      "step 1000 loss 3.836535280227661\n"
     ]
    },
    {
     "name": "stderr",
     "output_type": "stream",
     "text": [
      "  0%|                                                                                                                  | 1077/1000000 [02:34<54:30:17,  5.09it/s]"
     ]
    },
    {
     "name": "stdout",
     "output_type": "stream",
     "text": [
      "1076 error\n"
     ]
    },
    {
     "name": "stderr",
     "output_type": "stream",
     "text": [
      "  0%|▏                                                                                                                 | 1191/1000000 [02:50<50:51:56,  5.45it/s]"
     ]
    },
    {
     "name": "stdout",
     "output_type": "stream",
     "text": [
      "1189 error\n"
     ]
    },
    {
     "name": "stderr",
     "output_type": "stream",
     "text": [
      "  0%|▏                                                                                                                 | 1224/1000000 [02:55<45:57:20,  6.04it/s]"
     ]
    },
    {
     "name": "stdout",
     "output_type": "stream",
     "text": [
      "1222 error\n"
     ]
    },
    {
     "name": "stderr",
     "output_type": "stream",
     "text": [
      "  0%|▏                                                                                                                 | 2000/1000000 [04:44<35:44:06,  7.76it/s]"
     ]
    },
    {
     "name": "stdout",
     "output_type": "stream",
     "text": [
      "step 2000 loss 3.612840162754059\n"
     ]
    },
    {
     "name": "stderr",
     "output_type": "stream",
     "text": [
      "  0%|▎                                                                                                                 | 2563/1000000 [06:06<41:24:26,  6.69it/s]Token indices sequence length is longer than the specified maximum sequence length for this model (644 > 512). Running this sequence through the model will result in indexing errors\n",
      "  0%|▎                                                                                                                 | 3000/1000000 [07:08<44:30:38,  6.22it/s]"
     ]
    },
    {
     "name": "stdout",
     "output_type": "stream",
     "text": [
      "step 3000 loss 3.497310962438583\n"
     ]
    },
    {
     "name": "stderr",
     "output_type": "stream",
     "text": [
      "  0%|▍                                                                                                                 | 3401/1000000 [08:06<49:52:49,  5.55it/s]"
     ]
    },
    {
     "name": "stdout",
     "output_type": "stream",
     "text": [
      "3400 error\n"
     ]
    },
    {
     "name": "stderr",
     "output_type": "stream",
     "text": [
      "  0%|▍                                                                                                                 | 4000/1000000 [09:31<38:03:37,  7.27it/s]"
     ]
    },
    {
     "name": "stdout",
     "output_type": "stream",
     "text": [
      "step 4000 loss 3.4472397108078003\n"
     ]
    },
    {
     "name": "stderr",
     "output_type": "stream",
     "text": [
      "  0%|▍                                                                                                                 | 4106/1000000 [09:47<51:04:59,  5.42it/s]"
     ]
    },
    {
     "name": "stdout",
     "output_type": "stream",
     "text": [
      "4105 error\n"
     ]
    },
    {
     "name": "stderr",
     "output_type": "stream",
     "text": [
      "  0%|▍                                                                                                                 | 4216/1000000 [10:03<48:41:22,  5.68it/s]"
     ]
    },
    {
     "name": "stdout",
     "output_type": "stream",
     "text": [
      "4214 error\n"
     ]
    },
    {
     "name": "stderr",
     "output_type": "stream",
     "text": [
      "  0%|▌                                                                                                                 | 5000/1000000 [11:54<38:29:36,  7.18it/s]"
     ]
    },
    {
     "name": "stdout",
     "output_type": "stream",
     "text": [
      "step 5000 loss 3.367010394334793\n"
     ]
    },
    {
     "name": "stderr",
     "output_type": "stream",
     "text": [
      "  1%|▌                                                                                                                 | 5440/1000000 [12:58<46:49:50,  5.90it/s]"
     ]
    },
    {
     "name": "stdout",
     "output_type": "stream",
     "text": [
      "5439 error\n"
     ]
    },
    {
     "name": "stderr",
     "output_type": "stream",
     "text": [
      "  1%|▋                                                                                                                 | 5552/1000000 [13:14<44:20:56,  6.23it/s]"
     ]
    },
    {
     "name": "stdout",
     "output_type": "stream",
     "text": [
      "5550 error\n"
     ]
    },
    {
     "name": "stderr",
     "output_type": "stream",
     "text": [
      "  1%|▋                                                                                                                 | 5681/1000000 [13:33<49:25:52,  5.59it/s]"
     ]
    },
    {
     "name": "stdout",
     "output_type": "stream",
     "text": [
      "5680 error\n"
     ]
    },
    {
     "name": "stderr",
     "output_type": "stream",
     "text": [
      "  1%|▋                                                                                                                 | 6000/1000000 [14:19<39:10:55,  7.05it/s]"
     ]
    },
    {
     "name": "stdout",
     "output_type": "stream",
     "text": [
      "step 6000 loss 3.3659094274044037\n"
     ]
    },
    {
     "name": "stderr",
     "output_type": "stream",
     "text": [
      "  1%|▊                                                                                                                 | 7000/1000000 [16:42<36:11:56,  7.62it/s]"
     ]
    },
    {
     "name": "stdout",
     "output_type": "stream",
     "text": [
      "step 7000 loss 3.3089338841438294\n"
     ]
    },
    {
     "name": "stderr",
     "output_type": "stream",
     "text": [
      "  1%|▊                                                                                                                 | 7353/1000000 [17:35<48:21:06,  5.70it/s]"
     ]
    },
    {
     "name": "stdout",
     "output_type": "stream",
     "text": [
      "7352 error\n"
     ]
    },
    {
     "name": "stderr",
     "output_type": "stream",
     "text": [
      "  1%|▉                                                                                                                 | 8000/1000000 [19:07<41:22:58,  6.66it/s]"
     ]
    },
    {
     "name": "stdout",
     "output_type": "stream",
     "text": [
      "step 8000 loss 3.236089067220688\n"
     ]
    },
    {
     "name": "stderr",
     "output_type": "stream",
     "text": [
      "  1%|▉                                                                                                                 | 8711/1000000 [20:49<45:51:45,  6.00it/s]"
     ]
    },
    {
     "name": "stdout",
     "output_type": "stream",
     "text": [
      "8709 error\n"
     ]
    },
    {
     "name": "stderr",
     "output_type": "stream",
     "text": [
      "  1%|█                                                                                                                 | 9000/1000000 [21:30<35:46:50,  7.69it/s]"
     ]
    },
    {
     "name": "stdout",
     "output_type": "stream",
     "text": [
      "step 9000 loss 3.2757527811527254\n"
     ]
    },
    {
     "name": "stderr",
     "output_type": "stream",
     "text": [
      "  1%|█                                                                                                                 | 9007/1000000 [21:32<55:26:07,  4.97it/s]"
     ]
    },
    {
     "name": "stdout",
     "output_type": "stream",
     "text": [
      "9006 error\n"
     ]
    },
    {
     "name": "stderr",
     "output_type": "stream",
     "text": [
      "  1%|█▏                                                                                                               | 10000/1000000 [23:54<36:57:25,  7.44it/s]"
     ]
    },
    {
     "name": "stdout",
     "output_type": "stream",
     "text": [
      "step 10000 loss 3.272041956424713\n"
     ]
    },
    {
     "name": "stderr",
     "output_type": "stream",
     "text": [
      "  1%|█▏                                                                                                               | 11000/1000000 [26:17<38:03:24,  7.22it/s]"
     ]
    },
    {
     "name": "stdout",
     "output_type": "stream",
     "text": [
      "step 11000 loss 3.214449599981308\n"
     ]
    },
    {
     "name": "stderr",
     "output_type": "stream",
     "text": [
      "  1%|█▎                                                                                                               | 12000/1000000 [28:41<38:52:25,  7.06it/s]"
     ]
    },
    {
     "name": "stdout",
     "output_type": "stream",
     "text": [
      "step 12000 loss 3.223476087093353\n"
     ]
    },
    {
     "name": "stderr",
     "output_type": "stream",
     "text": [
      "  1%|█▍                                                                                                               | 13000/1000000 [31:03<37:11:14,  7.37it/s]"
     ]
    },
    {
     "name": "stdout",
     "output_type": "stream",
     "text": [
      "step 13000 loss 3.166255916595459\n"
     ]
    },
    {
     "name": "stderr",
     "output_type": "stream",
     "text": [
      "  1%|█▌                                                                                                               | 13795/1000000 [32:59<43:07:13,  6.35it/s]"
     ]
    },
    {
     "name": "stdout",
     "output_type": "stream",
     "text": [
      "13793 error\n"
     ]
    },
    {
     "name": "stderr",
     "output_type": "stream",
     "text": [
      "  1%|█▌                                                                                                               | 14000/1000000 [33:28<35:01:42,  7.82it/s]"
     ]
    },
    {
     "name": "stdout",
     "output_type": "stream",
     "text": [
      "step 14000 loss 3.1616467051506043\n"
     ]
    },
    {
     "name": "stderr",
     "output_type": "stream",
     "text": [
      "  2%|█▋                                                                                                               | 15000/1000000 [35:52<40:08:00,  6.82it/s]"
     ]
    },
    {
     "name": "stdout",
     "output_type": "stream",
     "text": [
      "step 15000 loss 3.1313224017620085\n"
     ]
    },
    {
     "name": "stderr",
     "output_type": "stream",
     "text": [
      "  2%|█▊                                                                                                               | 16000/1000000 [38:17<33:53:51,  8.06it/s]"
     ]
    },
    {
     "name": "stdout",
     "output_type": "stream",
     "text": [
      "step 16000 loss 3.0966890482902527\n"
     ]
    },
    {
     "name": "stderr",
     "output_type": "stream",
     "text": [
      "  2%|█▊                                                                                                               | 16279/1000000 [38:58<54:00:20,  5.06it/s]"
     ]
    },
    {
     "name": "stdout",
     "output_type": "stream",
     "text": [
      "16278 error\n"
     ]
    },
    {
     "name": "stderr",
     "output_type": "stream",
     "text": [
      "  2%|█▉                                                                                                               | 17000/1000000 [40:40<37:16:24,  7.33it/s]"
     ]
    },
    {
     "name": "stdout",
     "output_type": "stream",
     "text": [
      "step 17000 loss 3.121011530637741\n"
     ]
    },
    {
     "name": "stderr",
     "output_type": "stream",
     "text": [
      "  2%|██                                                                                                               | 18000/1000000 [43:01<33:41:00,  8.10it/s]"
     ]
    },
    {
     "name": "stdout",
     "output_type": "stream",
     "text": [
      "step 18000 loss 3.100179529666901\n"
     ]
    },
    {
     "name": "stderr",
     "output_type": "stream",
     "text": [
      "  2%|██                                                                                                               | 18401/1000000 [44:00<50:13:16,  5.43it/s]"
     ]
    },
    {
     "name": "stdout",
     "output_type": "stream",
     "text": [
      "18400 error\n"
     ]
    },
    {
     "name": "stderr",
     "output_type": "stream",
     "text": [
      "  2%|██▏                                                                                                              | 19000/1000000 [45:25<34:53:52,  7.81it/s]"
     ]
    },
    {
     "name": "stdout",
     "output_type": "stream",
     "text": [
      "step 19000 loss 3.0272500915527343\n"
     ]
    },
    {
     "name": "stderr",
     "output_type": "stream",
     "text": [
      "  2%|██▏                                                                                                              | 19249/1000000 [46:02<47:11:48,  5.77it/s]"
     ]
    },
    {
     "name": "stdout",
     "output_type": "stream",
     "text": [
      "19248 error\n"
     ]
    },
    {
     "name": "stderr",
     "output_type": "stream",
     "text": [
      "  2%|██▏                                                                                                              | 19620/1000000 [46:55<45:46:59,  5.95it/s]"
     ]
    },
    {
     "name": "stdout",
     "output_type": "stream",
     "text": [
      "19619 error\n"
     ]
    },
    {
     "name": "stderr",
     "output_type": "stream",
     "text": [
      "  2%|██▎                                                                                                              | 20000/1000000 [47:48<37:05:00,  7.34it/s]"
     ]
    },
    {
     "name": "stdout",
     "output_type": "stream",
     "text": [
      "step 20000 loss 3.049351378440857\n"
     ]
    },
    {
     "name": "stderr",
     "output_type": "stream",
     "text": [
      "  2%|██▎                                                                                                              | 20644/1000000 [49:21<40:14:36,  6.76it/s]"
     ]
    },
    {
     "name": "stdout",
     "output_type": "stream",
     "text": [
      "20642 error\n"
     ]
    },
    {
     "name": "stderr",
     "output_type": "stream",
     "text": [
      "  2%|██▎                                                                                                              | 21000/1000000 [50:13<34:38:42,  7.85it/s]"
     ]
    },
    {
     "name": "stdout",
     "output_type": "stream",
     "text": [
      "step 21000 loss 3.026424225091934\n"
     ]
    },
    {
     "name": "stderr",
     "output_type": "stream",
     "text": [
      "  2%|██▍                                                                                                              | 22000/1000000 [52:34<39:06:09,  6.95it/s]"
     ]
    },
    {
     "name": "stdout",
     "output_type": "stream",
     "text": [
      "step 22000 loss 3.0529646139144897\n"
     ]
    },
    {
     "name": "stderr",
     "output_type": "stream",
     "text": [
      "  2%|██▌                                                                                                              | 23000/1000000 [54:59<36:10:18,  7.50it/s]"
     ]
    },
    {
     "name": "stdout",
     "output_type": "stream",
     "text": [
      "step 23000 loss 2.9630550274848937\n"
     ]
    },
    {
     "name": "stderr",
     "output_type": "stream",
     "text": [
      "  2%|██▋                                                                                                              | 23490/1000000 [56:10<44:33:29,  6.09it/s]"
     ]
    },
    {
     "name": "stdout",
     "output_type": "stream",
     "text": [
      "23489 error\n"
     ]
    },
    {
     "name": "stderr",
     "output_type": "stream",
     "text": [
      "  2%|██▋                                                                                                              | 23660/1000000 [56:34<46:19:10,  5.86it/s]"
     ]
    },
    {
     "name": "stdout",
     "output_type": "stream",
     "text": [
      "23659 error\n"
     ]
    },
    {
     "name": "stderr",
     "output_type": "stream",
     "text": [
      "  2%|██▋                                                                                                              | 24000/1000000 [57:23<41:07:15,  6.59it/s]"
     ]
    },
    {
     "name": "stdout",
     "output_type": "stream",
     "text": [
      "step 24000 loss 2.932951868772507\n"
     ]
    },
    {
     "name": "stderr",
     "output_type": "stream",
     "text": [
      "  2%|██▊                                                                                                              | 25000/1000000 [59:46<35:44:08,  7.58it/s]"
     ]
    },
    {
     "name": "stdout",
     "output_type": "stream",
     "text": [
      "step 25000 loss 2.9715264966487887\n"
     ]
    },
    {
     "name": "stderr",
     "output_type": "stream",
     "text": [
      "  3%|██▉                                                                                                            | 26000/1000000 [1:02:11<37:37:49,  7.19it/s]"
     ]
    },
    {
     "name": "stdout",
     "output_type": "stream",
     "text": [
      "step 26000 loss 2.9322012548446654\n"
     ]
    },
    {
     "name": "stderr",
     "output_type": "stream",
     "text": [
      "  3%|██▉                                                                                                            | 27000/1000000 [1:04:35<35:40:19,  7.58it/s]"
     ]
    },
    {
     "name": "stdout",
     "output_type": "stream",
     "text": [
      "step 27000 loss 2.964232409954071\n"
     ]
    },
    {
     "name": "stderr",
     "output_type": "stream",
     "text": [
      "  3%|███                                                                                                            | 28000/1000000 [1:06:58<44:20:43,  6.09it/s]"
     ]
    },
    {
     "name": "stdout",
     "output_type": "stream",
     "text": [
      "step 28000 loss 2.9297101044654847\n"
     ]
    },
    {
     "name": "stderr",
     "output_type": "stream",
     "text": [
      "  3%|███▏                                                                                                           | 29000/1000000 [1:09:22<37:47:22,  7.14it/s]"
     ]
    },
    {
     "name": "stdout",
     "output_type": "stream",
     "text": [
      "step 29000 loss 2.9282359998226166\n"
     ]
    },
    {
     "name": "stderr",
     "output_type": "stream",
     "text": [
      "  3%|███▎                                                                                                           | 30000/1000000 [1:11:46<37:15:20,  7.23it/s]"
     ]
    },
    {
     "name": "stdout",
     "output_type": "stream",
     "text": [
      "step 30000 loss 2.897364721775055\n"
     ]
    },
    {
     "name": "stderr",
     "output_type": "stream",
     "text": [
      "  3%|███▍                                                                                                           | 30831/1000000 [1:13:45<48:05:38,  5.60it/s]"
     ]
    },
    {
     "name": "stdout",
     "output_type": "stream",
     "text": [
      "30830 error\n"
     ]
    },
    {
     "name": "stderr",
     "output_type": "stream",
     "text": [
      "  3%|███▍                                                                                                           | 31000/1000000 [1:14:09<38:56:05,  6.91it/s]"
     ]
    },
    {
     "name": "stdout",
     "output_type": "stream",
     "text": [
      "step 31000 loss 2.875922134280205\n"
     ]
    },
    {
     "name": "stderr",
     "output_type": "stream",
     "text": [
      "  3%|███▍                                                                                                           | 31509/1000000 [1:15:22<45:49:32,  5.87it/s]"
     ]
    },
    {
     "name": "stdout",
     "output_type": "stream",
     "text": [
      "31507 error\n"
     ]
    },
    {
     "name": "stderr",
     "output_type": "stream",
     "text": [
      "  3%|███▌                                                                                                           | 31945/1000000 [1:16:27<48:32:16,  5.54it/s]"
     ]
    },
    {
     "name": "stdout",
     "output_type": "stream",
     "text": [
      "31944 error\n"
     ]
    },
    {
     "name": "stderr",
     "output_type": "stream",
     "text": [
      "  3%|███▌                                                                                                           | 32000/1000000 [1:16:36<43:32:31,  6.18it/s]"
     ]
    },
    {
     "name": "stdout",
     "output_type": "stream",
     "text": [
      "step 32000 loss 2.851859973669052\n"
     ]
    },
    {
     "name": "stderr",
     "output_type": "stream",
     "text": [
      "  3%|███▋                                                                                                           | 32901/1000000 [1:18:46<45:39:34,  5.88it/s]"
     ]
    },
    {
     "name": "stdout",
     "output_type": "stream",
     "text": [
      "32900 error\n"
     ]
    },
    {
     "name": "stderr",
     "output_type": "stream",
     "text": [
      "  3%|███▋                                                                                                           | 33000/1000000 [1:19:01<42:14:06,  6.36it/s]"
     ]
    },
    {
     "name": "stdout",
     "output_type": "stream",
     "text": [
      "step 33000 loss 2.8560362329483033\n"
     ]
    },
    {
     "name": "stderr",
     "output_type": "stream",
     "text": [
      "  3%|███▋                                                                                                           | 33490/1000000 [1:20:13<44:53:47,  5.98it/s]"
     ]
    },
    {
     "name": "stdout",
     "output_type": "stream",
     "text": [
      "33489 error\n"
     ]
    },
    {
     "name": "stderr",
     "output_type": "stream",
     "text": [
      "  3%|███▊                                                                                                           | 34000/1000000 [1:21:26<32:46:55,  8.19it/s]"
     ]
    },
    {
     "name": "stdout",
     "output_type": "stream",
     "text": [
      "step 34000 loss 2.8750776147842405\n"
     ]
    },
    {
     "name": "stderr",
     "output_type": "stream",
     "text": [
      "  3%|███▉                                                                                                           | 34919/1000000 [1:23:39<41:50:39,  6.41it/s]"
     ]
    },
    {
     "name": "stdout",
     "output_type": "stream",
     "text": [
      "34918 error\n"
     ]
    },
    {
     "name": "stderr",
     "output_type": "stream",
     "text": [
      "  4%|███▉                                                                                                           | 35000/1000000 [1:23:50<33:41:58,  7.95it/s]"
     ]
    },
    {
     "name": "stdout",
     "output_type": "stream",
     "text": [
      "step 35000 loss 2.8717817069292066\n"
     ]
    },
    {
     "name": "stderr",
     "output_type": "stream",
     "text": [
      "  4%|███▉                                                                                                           | 36000/1000000 [1:26:16<37:39:18,  7.11it/s]"
     ]
    },
    {
     "name": "stdout",
     "output_type": "stream",
     "text": [
      "step 36000 loss 2.8507496930360796\n"
     ]
    },
    {
     "name": "stderr",
     "output_type": "stream",
     "text": [
      "  4%|████                                                                                                           | 36060/1000000 [1:26:26<46:33:03,  5.75it/s]"
     ]
    },
    {
     "name": "stdout",
     "output_type": "stream",
     "text": [
      "36059 error\n"
     ]
    },
    {
     "name": "stderr",
     "output_type": "stream",
     "text": [
      "  4%|████                                                                                                           | 36339/1000000 [1:27:06<41:09:12,  6.50it/s]"
     ]
    },
    {
     "name": "stdout",
     "output_type": "stream",
     "text": [
      "36337 error\n"
     ]
    },
    {
     "name": "stderr",
     "output_type": "stream",
     "text": [
      "  4%|████                                                                                                           | 36890/1000000 [1:28:26<45:44:58,  5.85it/s]"
     ]
    },
    {
     "name": "stdout",
     "output_type": "stream",
     "text": [
      "36889 error\n"
     ]
    },
    {
     "name": "stderr",
     "output_type": "stream",
     "text": [
      "  4%|████                                                                                                           | 37000/1000000 [1:28:42<42:21:31,  6.32it/s]"
     ]
    },
    {
     "name": "stdout",
     "output_type": "stream",
     "text": [
      "step 37000 loss 2.8052458602190016\n"
     ]
    },
    {
     "name": "stderr",
     "output_type": "stream",
     "text": [
      "  4%|████▏                                                                                                          | 37625/1000000 [1:30:15<48:14:04,  5.54it/s]"
     ]
    },
    {
     "name": "stdout",
     "output_type": "stream",
     "text": [
      "37624 error\n"
     ]
    },
    {
     "name": "stderr",
     "output_type": "stream",
     "text": [
      "  4%|████▏                                                                                                          | 38000/1000000 [1:31:10<43:02:11,  6.21it/s]"
     ]
    },
    {
     "name": "stdout",
     "output_type": "stream",
     "text": [
      "step 38000 loss 2.814251935005188\n"
     ]
    },
    {
     "name": "stderr",
     "output_type": "stream",
     "text": [
      "  4%|████▎                                                                                                          | 38395/1000000 [1:32:11<51:56:18,  5.14it/s]"
     ]
    },
    {
     "name": "stdout",
     "output_type": "stream",
     "text": [
      "38393 error\n"
     ]
    },
    {
     "name": "stderr",
     "output_type": "stream",
     "text": [
      "  4%|████▎                                                                                                          | 38418/1000000 [1:32:14<48:36:48,  5.49it/s]"
     ]
    },
    {
     "name": "stdout",
     "output_type": "stream",
     "text": [
      "38417 error\n"
     ]
    },
    {
     "name": "stderr",
     "output_type": "stream",
     "text": [
      "  4%|████▎                                                                                                          | 38747/1000000 [1:33:03<50:11:34,  5.32it/s]"
     ]
    },
    {
     "name": "stdout",
     "output_type": "stream",
     "text": [
      "38746 error\n"
     ]
    },
    {
     "name": "stderr",
     "output_type": "stream",
     "text": [
      "  4%|████▎                                                                                                          | 39000/1000000 [1:33:39<36:48:14,  7.25it/s]"
     ]
    },
    {
     "name": "stdout",
     "output_type": "stream",
     "text": [
      "step 39000 loss 2.821923542499542\n"
     ]
    },
    {
     "name": "stderr",
     "output_type": "stream",
     "text": [
      "  4%|████▎                                                                                                          | 39248/1000000 [1:34:16<41:08:22,  6.49it/s]"
     ]
    },
    {
     "name": "stdout",
     "output_type": "stream",
     "text": [
      "39246 error\n"
     ]
    },
    {
     "name": "stderr",
     "output_type": "stream",
     "text": [
      "  4%|████▎                                                                                                          | 39409/1000000 [1:34:40<48:51:55,  5.46it/s]"
     ]
    },
    {
     "name": "stdout",
     "output_type": "stream",
     "text": [
      "39408 error\n"
     ]
    },
    {
     "name": "stderr",
     "output_type": "stream",
     "text": [
      "  4%|████▍                                                                                                          | 40000/1000000 [1:36:06<43:44:35,  6.10it/s]"
     ]
    },
    {
     "name": "stdout",
     "output_type": "stream",
     "text": [
      "step 40000 loss 2.780845383167267\n"
     ]
    },
    {
     "name": "stderr",
     "output_type": "stream",
     "text": [
      "  4%|████▍                                                                                                          | 40085/1000000 [1:36:20<47:24:37,  5.62it/s]"
     ]
    },
    {
     "name": "stdout",
     "output_type": "stream",
     "text": [
      "40084 error\n"
     ]
    },
    {
     "name": "stderr",
     "output_type": "stream",
     "text": [
      "  4%|████▌                                                                                                          | 41000/1000000 [1:38:37<35:53:49,  7.42it/s]"
     ]
    },
    {
     "name": "stdout",
     "output_type": "stream",
     "text": [
      "step 41000 loss 2.775307677984238\n"
     ]
    },
    {
     "name": "stderr",
     "output_type": "stream",
     "text": [
      "  4%|████▌                                                                                                          | 41610/1000000 [1:40:08<50:47:24,  5.24it/s]"
     ]
    },
    {
     "name": "stdout",
     "output_type": "stream",
     "text": [
      "41609 error\n"
     ]
    },
    {
     "name": "stderr",
     "output_type": "stream",
     "text": [
      "  4%|████▋                                                                                                          | 42000/1000000 [1:41:07<33:21:00,  7.98it/s]"
     ]
    },
    {
     "name": "stdout",
     "output_type": "stream",
     "text": [
      "step 42000 loss 2.8038906667232513\n"
     ]
    },
    {
     "name": "stderr",
     "output_type": "stream",
     "text": [
      "  4%|████▊                                                                                                          | 43000/1000000 [1:43:38<35:50:13,  7.42it/s]"
     ]
    },
    {
     "name": "stdout",
     "output_type": "stream",
     "text": [
      "step 43000 loss 2.7532026646137235\n"
     ]
    },
    {
     "name": "stderr",
     "output_type": "stream",
     "text": [
      "  4%|████▊                                                                                                          | 43012/1000000 [1:43:41<49:35:33,  5.36it/s]"
     ]
    },
    {
     "name": "stdout",
     "output_type": "stream",
     "text": [
      "43011 error\n"
     ]
    },
    {
     "name": "stderr",
     "output_type": "stream",
     "text": [
      "  4%|████▊                                                                                                          | 43028/1000000 [1:43:43<47:03:04,  5.65it/s]"
     ]
    },
    {
     "name": "stdout",
     "output_type": "stream",
     "text": [
      "43027 error\n"
     ]
    },
    {
     "name": "stderr",
     "output_type": "stream",
     "text": [
      "  4%|████▊                                                                                                          | 43560/1000000 [1:45:03<45:00:52,  5.90it/s]"
     ]
    },
    {
     "name": "stdout",
     "output_type": "stream",
     "text": [
      "43559 error\n"
     ]
    },
    {
     "name": "stderr",
     "output_type": "stream",
     "text": [
      "  4%|████▉                                                                                                          | 44000/1000000 [1:46:07<44:14:15,  6.00it/s]"
     ]
    },
    {
     "name": "stdout",
     "output_type": "stream",
     "text": [
      "step 44000 loss 2.7323843777179717\n"
     ]
    },
    {
     "name": "stderr",
     "output_type": "stream",
     "text": [
      "  4%|████▉                                                                                                          | 44244/1000000 [1:46:45<49:34:29,  5.36it/s]"
     ]
    },
    {
     "name": "stdout",
     "output_type": "stream",
     "text": [
      "44243 error\n"
     ]
    },
    {
     "name": "stderr",
     "output_type": "stream",
     "text": [
      "  4%|████▉                                                                                                          | 44557/1000000 [1:47:32<50:44:52,  5.23it/s]"
     ]
    },
    {
     "name": "stdout",
     "output_type": "stream",
     "text": [
      "44556 error\n"
     ]
    },
    {
     "name": "stderr",
     "output_type": "stream",
     "text": [
      "  4%|████▉                                                                                                          | 44659/1000000 [1:47:47<45:23:16,  5.85it/s]"
     ]
    },
    {
     "name": "stdout",
     "output_type": "stream",
     "text": [
      "44658 error\n"
     ]
    },
    {
     "name": "stderr",
     "output_type": "stream",
     "text": [
      "  4%|████▉                                                                                                          | 45000/1000000 [1:48:37<40:59:12,  6.47it/s]"
     ]
    },
    {
     "name": "stdout",
     "output_type": "stream",
     "text": [
      "step 45000 loss 2.744730399131775\n"
     ]
    },
    {
     "name": "stderr",
     "output_type": "stream",
     "text": [
      "  5%|████▉                                                                                                          | 45023/1000000 [1:48:42<49:14:46,  5.39it/s]"
     ]
    },
    {
     "name": "stdout",
     "output_type": "stream",
     "text": [
      "45022 error\n"
     ]
    },
    {
     "name": "stderr",
     "output_type": "stream",
     "text": [
      "  5%|█████                                                                                                          | 45151/1000000 [1:49:01<47:04:05,  5.64it/s]"
     ]
    },
    {
     "name": "stdout",
     "output_type": "stream",
     "text": [
      "45150 error\n"
     ]
    },
    {
     "name": "stderr",
     "output_type": "stream",
     "text": [
      "  5%|█████                                                                                                          | 46000/1000000 [1:51:07<41:01:26,  6.46it/s]"
     ]
    },
    {
     "name": "stdout",
     "output_type": "stream",
     "text": [
      "step 46000 loss 2.759230739593506\n"
     ]
    },
    {
     "name": "stderr",
     "output_type": "stream",
     "text": [
      "  5%|█████▏                                                                                                         | 46665/1000000 [1:52:48<46:48:32,  5.66it/s]"
     ]
    },
    {
     "name": "stdout",
     "output_type": "stream",
     "text": [
      "46664 error\n"
     ]
    },
    {
     "name": "stderr",
     "output_type": "stream",
     "text": [
      "  5%|█████▏                                                                                                         | 47000/1000000 [1:53:36<41:45:28,  6.34it/s]"
     ]
    },
    {
     "name": "stdout",
     "output_type": "stream",
     "text": [
      "step 47000 loss 2.7358617022037506\n"
     ]
    },
    {
     "name": "stderr",
     "output_type": "stream",
     "text": [
      "  5%|█████▎                                                                                                         | 48000/1000000 [1:56:03<35:07:32,  7.53it/s]"
     ]
    },
    {
     "name": "stdout",
     "output_type": "stream",
     "text": [
      "step 48000 loss 2.7392296135425567\n"
     ]
    },
    {
     "name": "stderr",
     "output_type": "stream",
     "text": [
      "  5%|█████▎                                                                                                         | 48016/1000000 [1:56:07<45:08:48,  5.86it/s]"
     ]
    },
    {
     "name": "stdout",
     "output_type": "stream",
     "text": [
      "48014 error\n"
     ]
    },
    {
     "name": "stderr",
     "output_type": "stream",
     "text": [
      "  5%|█████▍                                                                                                         | 48997/1000000 [1:58:34<43:47:46,  6.03it/s]"
     ]
    },
    {
     "name": "stdout",
     "output_type": "stream",
     "text": [
      "48996 error\n"
     ]
    },
    {
     "name": "stderr",
     "output_type": "stream",
     "text": [
      "  5%|█████▍                                                                                                         | 49000/1000000 [1:58:35<40:45:25,  6.48it/s]"
     ]
    },
    {
     "name": "stdout",
     "output_type": "stream",
     "text": [
      "step 49000 loss 2.737309105038643\n"
     ]
    },
    {
     "name": "stderr",
     "output_type": "stream",
     "text": [
      "  5%|█████▍                                                                                                         | 49485/1000000 [1:59:54<47:16:21,  5.59it/s]"
     ]
    },
    {
     "name": "stdout",
     "output_type": "stream",
     "text": [
      "49484 error\n"
     ]
    },
    {
     "name": "stderr",
     "output_type": "stream",
     "text": [
      "  5%|█████▍                                                                                                         | 49507/1000000 [1:59:57<47:45:13,  5.53it/s]"
     ]
    },
    {
     "name": "stdout",
     "output_type": "stream",
     "text": [
      "49506 error\n"
     ]
    },
    {
     "name": "stderr",
     "output_type": "stream",
     "text": [
      "  5%|█████▌                                                                                                         | 50000/1000000 [2:01:13<35:35:34,  7.41it/s]"
     ]
    },
    {
     "name": "stdout",
     "output_type": "stream",
     "text": [
      "step 50000 loss 2.669913087248802\n"
     ]
    },
    {
     "name": "stderr",
     "output_type": "stream",
     "text": [
      "  5%|█████▌                                                                                                         | 50475/1000000 [2:02:27<50:11:11,  5.26it/s]"
     ]
    },
    {
     "name": "stdout",
     "output_type": "stream",
     "text": [
      "50474 error\n"
     ]
    },
    {
     "name": "stderr",
     "output_type": "stream",
     "text": [
      "  5%|█████▌                                                                                                         | 50500/1000000 [2:02:32<52:34:19,  5.02it/s]"
     ]
    },
    {
     "name": "stdout",
     "output_type": "stream",
     "text": [
      "50499 error\n"
     ]
    },
    {
     "name": "stderr",
     "output_type": "stream",
     "text": [
      "  5%|█████▋                                                                                                         | 51000/1000000 [2:03:51<38:43:19,  6.81it/s]"
     ]
    },
    {
     "name": "stdout",
     "output_type": "stream",
     "text": [
      "step 51000 loss 2.663070681452751\n"
     ]
    },
    {
     "name": "stderr",
     "output_type": "stream",
     "text": [
      "  5%|█████▋                                                                                                         | 51687/1000000 [2:05:39<45:52:12,  5.74it/s]"
     ]
    },
    {
     "name": "stdout",
     "output_type": "stream",
     "text": [
      "51686 error\n"
     ]
    },
    {
     "name": "stderr",
     "output_type": "stream",
     "text": [
      "  5%|█████▊                                                                                                         | 52000/1000000 [2:06:27<41:50:40,  6.29it/s]"
     ]
    },
    {
     "name": "stdout",
     "output_type": "stream",
     "text": [
      "step 52000 loss 2.712026225566864\n"
     ]
    },
    {
     "name": "stderr",
     "output_type": "stream",
     "text": [
      "  5%|█████▊                                                                                                         | 52175/1000000 [2:06:56<46:32:49,  5.66it/s]"
     ]
    },
    {
     "name": "stdout",
     "output_type": "stream",
     "text": [
      "52174 error\n"
     ]
    },
    {
     "name": "stderr",
     "output_type": "stream",
     "text": [
      "  5%|█████▉                                                                                                         | 53000/1000000 [2:09:04<35:22:57,  7.43it/s]"
     ]
    },
    {
     "name": "stdout",
     "output_type": "stream",
     "text": [
      "step 53000 loss 2.6985588421821594\n"
     ]
    },
    {
     "name": "stderr",
     "output_type": "stream",
     "text": [
      "  5%|█████▉                                                                                                         | 53946/1000000 [2:11:29<45:14:29,  5.81it/s]"
     ]
    },
    {
     "name": "stdout",
     "output_type": "stream",
     "text": [
      "53945 error\n"
     ]
    },
    {
     "name": "stderr",
     "output_type": "stream",
     "text": [
      "  5%|█████▉                                                                                                         | 54000/1000000 [2:11:37<38:40:22,  6.79it/s]"
     ]
    },
    {
     "name": "stdout",
     "output_type": "stream",
     "text": [
      "step 54000 loss 2.7059686802625658\n"
     ]
    },
    {
     "name": "stderr",
     "output_type": "stream",
     "text": [
      "  6%|██████                                                                                                         | 55000/1000000 [2:14:03<35:10:13,  7.46it/s]"
     ]
    },
    {
     "name": "stdout",
     "output_type": "stream",
     "text": [
      "step 55000 loss 2.649596806049347\n"
     ]
    },
    {
     "name": "stderr",
     "output_type": "stream",
     "text": [
      "  6%|██████▏                                                                                                        | 56000/1000000 [2:16:33<36:48:19,  7.12it/s]"
     ]
    },
    {
     "name": "stdout",
     "output_type": "stream",
     "text": [
      "step 56000 loss 2.6719908319711685\n"
     ]
    },
    {
     "name": "stderr",
     "output_type": "stream",
     "text": [
      "  6%|██████▏                                                                                                        | 56030/1000000 [2:16:39<47:50:16,  5.48it/s]"
     ]
    },
    {
     "name": "stdout",
     "output_type": "stream",
     "text": [
      "56029 error\n"
     ]
    },
    {
     "name": "stderr",
     "output_type": "stream",
     "text": [
      "  6%|██████▎                                                                                                        | 57000/1000000 [2:19:04<39:20:32,  6.66it/s]"
     ]
    },
    {
     "name": "stdout",
     "output_type": "stream",
     "text": [
      "step 57000 loss 2.6623668636083604\n"
     ]
    },
    {
     "name": "stderr",
     "output_type": "stream",
     "text": [
      "  6%|██████▎                                                                                                        | 57166/1000000 [2:19:29<46:58:24,  5.58it/s]"
     ]
    },
    {
     "name": "stdout",
     "output_type": "stream",
     "text": [
      "57165 error\n"
     ]
    },
    {
     "name": "stderr",
     "output_type": "stream",
     "text": [
      "  6%|██████▍                                                                                                        | 58000/1000000 [2:21:32<41:22:55,  6.32it/s]"
     ]
    },
    {
     "name": "stdout",
     "output_type": "stream",
     "text": [
      "step 58000 loss 2.6786278874874117\n"
     ]
    },
    {
     "name": "stderr",
     "output_type": "stream",
     "text": [
      "  6%|██████▍                                                                                                        | 58016/1000000 [2:21:36<48:46:00,  5.37it/s]"
     ]
    },
    {
     "name": "stdout",
     "output_type": "stream",
     "text": [
      "58014 error\n"
     ]
    },
    {
     "name": "stderr",
     "output_type": "stream",
     "text": [
      "  6%|██████▍                                                                                                        | 58020/1000000 [2:21:37<48:24:11,  5.41it/s]"
     ]
    },
    {
     "name": "stdout",
     "output_type": "stream",
     "text": [
      "58018 error\n"
     ]
    },
    {
     "name": "stderr",
     "output_type": "stream",
     "text": [
      "  6%|██████▌                                                                                                        | 58699/1000000 [2:23:17<51:16:11,  5.10it/s]"
     ]
    },
    {
     "name": "stdout",
     "output_type": "stream",
     "text": [
      "58698 error\n"
     ]
    },
    {
     "name": "stderr",
     "output_type": "stream",
     "text": [
      "  6%|██████▌                                                                                                        | 59000/1000000 [2:24:01<50:07:55,  5.21it/s]"
     ]
    },
    {
     "name": "stdout",
     "output_type": "stream",
     "text": [
      "step 59000 loss 2.6396580008268358\n"
     ]
    },
    {
     "name": "stderr",
     "output_type": "stream",
     "text": [
      "  6%|██████▋                                                                                                        | 60000/1000000 [2:26:32<37:32:26,  6.96it/s]"
     ]
    },
    {
     "name": "stdout",
     "output_type": "stream",
     "text": [
      "step 60000 loss 2.6437397871017456\n"
     ]
    },
    {
     "name": "stderr",
     "output_type": "stream",
     "text": [
      "  6%|██████▋                                                                                                        | 60005/1000000 [2:26:34<65:31:36,  3.98it/s]"
     ]
    },
    {
     "name": "stdout",
     "output_type": "stream",
     "text": [
      "60004 error\n"
     ]
    },
    {
     "name": "stderr",
     "output_type": "stream",
     "text": [
      "  6%|██████▊                                                                                                        | 61000/1000000 [2:29:15<43:55:12,  5.94it/s]"
     ]
    },
    {
     "name": "stdout",
     "output_type": "stream",
     "text": [
      "step 61000 loss 2.6112459481954575\n"
     ]
    },
    {
     "name": "stderr",
     "output_type": "stream",
     "text": [
      "  6%|██████▊                                                                                                        | 61070/1000000 [2:29:33<68:31:16,  3.81it/s]"
     ]
    },
    {
     "name": "stdout",
     "output_type": "stream",
     "text": [
      "61069 error\n"
     ]
    },
    {
     "name": "stderr",
     "output_type": "stream",
     "text": [
      "  6%|██████▊                                                                                                        | 61244/1000000 [2:30:06<85:08:10,  3.06it/s]"
     ]
    },
    {
     "name": "stdout",
     "output_type": "stream",
     "text": [
      "61243 error\n"
     ]
    },
    {
     "name": "stderr",
     "output_type": "stream",
     "text": [
      "  6%|██████▉                                                                                                        | 62000/1000000 [2:32:17<41:38:08,  6.26it/s]"
     ]
    },
    {
     "name": "stdout",
     "output_type": "stream",
     "text": [
      "step 62000 loss 2.596948988199234\n"
     ]
    },
    {
     "name": "stderr",
     "output_type": "stream",
     "text": [
      "  6%|██████▉                                                                                                        | 62815/1000000 [2:34:19<45:14:40,  5.75it/s]"
     ]
    },
    {
     "name": "stdout",
     "output_type": "stream",
     "text": [
      "62813 error\n"
     ]
    },
    {
     "name": "stderr",
     "output_type": "stream",
     "text": [
      "  6%|██████▉                                                                                                        | 63000/1000000 [2:34:45<36:10:56,  7.19it/s]"
     ]
    },
    {
     "name": "stdout",
     "output_type": "stream",
     "text": [
      "step 63000 loss 2.5730301003456115\n"
     ]
    },
    {
     "name": "stderr",
     "output_type": "stream",
     "text": [
      "  6%|███████                                                                                                        | 63366/1000000 [2:35:38<46:54:26,  5.55it/s]"
     ]
    },
    {
     "name": "stdout",
     "output_type": "stream",
     "text": [
      "63365 error\n"
     ]
    },
    {
     "name": "stderr",
     "output_type": "stream",
     "text": [
      "  6%|███████                                                                                                        | 64000/1000000 [2:37:12<38:25:21,  6.77it/s]"
     ]
    },
    {
     "name": "stdout",
     "output_type": "stream",
     "text": [
      "step 64000 loss 2.6340425626039505\n"
     ]
    },
    {
     "name": "stderr",
     "output_type": "stream",
     "text": [
      "  6%|███████▏                                                                                                       | 65000/1000000 [2:39:37<44:05:03,  5.89it/s]"
     ]
    },
    {
     "name": "stdout",
     "output_type": "stream",
     "text": [
      "step 65000 loss 2.6185536388158797\n"
     ]
    },
    {
     "name": "stderr",
     "output_type": "stream",
     "text": [
      "  7%|███████▎                                                                                                       | 65529/1000000 [2:40:53<38:48:21,  6.69it/s]"
     ]
    },
    {
     "name": "stdout",
     "output_type": "stream",
     "text": [
      "65527 error\n"
     ]
    },
    {
     "name": "stderr",
     "output_type": "stream",
     "text": [
      "  7%|███████▎                                                                                                       | 66000/1000000 [2:42:00<37:31:51,  6.91it/s]"
     ]
    },
    {
     "name": "stdout",
     "output_type": "stream",
     "text": [
      "step 66000 loss 2.6126006811857225\n"
     ]
    },
    {
     "name": "stderr",
     "output_type": "stream",
     "text": [
      "  7%|███████▍                                                                                                       | 67000/1000000 [2:44:23<32:25:22,  7.99it/s]"
     ]
    },
    {
     "name": "stdout",
     "output_type": "stream",
     "text": [
      "step 67000 loss 2.6052780568599703\n"
     ]
    },
    {
     "name": "stderr",
     "output_type": "stream",
     "text": [
      "  7%|███████▍                                                                                                       | 67160/1000000 [2:44:46<45:00:39,  5.76it/s]"
     ]
    },
    {
     "name": "stdout",
     "output_type": "stream",
     "text": [
      "67159 error\n"
     ]
    },
    {
     "name": "stderr",
     "output_type": "stream",
     "text": [
      "  7%|███████▌                                                                                                       | 67773/1000000 [2:46:13<46:02:36,  5.62it/s]"
     ]
    },
    {
     "name": "stdout",
     "output_type": "stream",
     "text": [
      "67771 error\n"
     ]
    },
    {
     "name": "stderr",
     "output_type": "stream",
     "text": [
      "  7%|███████▌                                                                                                       | 68000/1000000 [2:46:47<35:31:02,  7.29it/s]"
     ]
    },
    {
     "name": "stdout",
     "output_type": "stream",
     "text": [
      "step 68000 loss 2.584859045624733\n"
     ]
    },
    {
     "name": "stderr",
     "output_type": "stream",
     "text": [
      "  7%|███████▋                                                                                                       | 69000/1000000 [2:49:12<40:52:42,  6.33it/s]"
     ]
    },
    {
     "name": "stdout",
     "output_type": "stream",
     "text": [
      "step 69000 loss 2.5948066065311433\n"
     ]
    },
    {
     "name": "stderr",
     "output_type": "stream",
     "text": [
      "  7%|███████▊                                                                                                       | 70000/1000000 [2:51:38<36:19:47,  7.11it/s]"
     ]
    },
    {
     "name": "stdout",
     "output_type": "stream",
     "text": [
      "step 70000 loss 2.5769958685636523\n"
     ]
    },
    {
     "name": "stderr",
     "output_type": "stream",
     "text": [
      "  7%|███████▊                                                                                                       | 70165/1000000 [2:52:02<50:20:56,  5.13it/s]"
     ]
    },
    {
     "name": "stdout",
     "output_type": "stream",
     "text": [
      "70164 error\n"
     ]
    },
    {
     "name": "stderr",
     "output_type": "stream",
     "text": [
      "  7%|███████▉                                                                                                       | 71000/1000000 [2:54:04<36:38:06,  7.04it/s]"
     ]
    },
    {
     "name": "stdout",
     "output_type": "stream",
     "text": [
      "step 71000 loss 2.595485254764557\n"
     ]
    },
    {
     "name": "stderr",
     "output_type": "stream",
     "text": [
      "  7%|███████▉                                                                                                       | 72000/1000000 [2:56:28<34:31:38,  7.47it/s]"
     ]
    },
    {
     "name": "stdout",
     "output_type": "stream",
     "text": [
      "step 72000 loss 2.578355628848076\n"
     ]
    },
    {
     "name": "stderr",
     "output_type": "stream",
     "text": [
      "  7%|████████                                                                                                       | 73000/1000000 [2:58:51<37:45:24,  6.82it/s]"
     ]
    },
    {
     "name": "stdout",
     "output_type": "stream",
     "text": [
      "step 73000 loss 2.569245998978615\n"
     ]
    },
    {
     "name": "stderr",
     "output_type": "stream",
     "text": [
      "  7%|████████▏                                                                                                      | 74000/1000000 [3:01:15<39:03:11,  6.59it/s]"
     ]
    },
    {
     "name": "stdout",
     "output_type": "stream",
     "text": [
      "step 74000 loss 2.5868053855896\n"
     ]
    },
    {
     "name": "stderr",
     "output_type": "stream",
     "text": [
      "  7%|████████▏                                                                                                      | 74263/1000000 [3:01:54<45:53:17,  5.60it/s]"
     ]
    },
    {
     "name": "stdout",
     "output_type": "stream",
     "text": [
      "74262 error\n"
     ]
    },
    {
     "name": "stderr",
     "output_type": "stream",
     "text": [
      "  7%|████████▎                                                                                                      | 74717/1000000 [3:03:00<40:52:39,  6.29it/s]"
     ]
    },
    {
     "name": "stdout",
     "output_type": "stream",
     "text": [
      "74715 error\n"
     ]
    },
    {
     "name": "stderr",
     "output_type": "stream",
     "text": [
      "  8%|████████▎                                                                                                      | 75000/1000000 [3:03:44<41:56:37,  6.13it/s]"
     ]
    },
    {
     "name": "stdout",
     "output_type": "stream",
     "text": [
      "step 75000 loss 2.521050807952881\n"
     ]
    },
    {
     "name": "stderr",
     "output_type": "stream",
     "text": [
      "  8%|████████▎                                                                                                      | 75079/1000000 [3:03:58<45:19:01,  5.67it/s]"
     ]
    },
    {
     "name": "stdout",
     "output_type": "stream",
     "text": [
      "75078 error\n"
     ]
    },
    {
     "name": "stderr",
     "output_type": "stream",
     "text": [
      "  8%|████████▎                                                                                                      | 75330/1000000 [3:04:35<43:47:05,  5.87it/s]"
     ]
    },
    {
     "name": "stdout",
     "output_type": "stream",
     "text": [
      "75328 error\n"
     ]
    },
    {
     "name": "stderr",
     "output_type": "stream",
     "text": [
      "  8%|████████▍                                                                                                      | 75557/1000000 [3:05:08<40:54:19,  6.28it/s]"
     ]
    },
    {
     "name": "stdout",
     "output_type": "stream",
     "text": [
      "75555 error\n"
     ]
    },
    {
     "name": "stderr",
     "output_type": "stream",
     "text": [
      "  8%|████████▍                                                                                                      | 76000/1000000 [3:06:11<38:32:27,  6.66it/s]"
     ]
    },
    {
     "name": "stdout",
     "output_type": "stream",
     "text": [
      "step 76000 loss 2.5820765509605406\n"
     ]
    },
    {
     "name": "stderr",
     "output_type": "stream",
     "text": [
      "  8%|████████▌                                                                                                      | 77000/1000000 [3:08:36<34:08:59,  7.51it/s]"
     ]
    },
    {
     "name": "stdout",
     "output_type": "stream",
     "text": [
      "step 77000 loss 2.5596618262529374\n"
     ]
    },
    {
     "name": "stderr",
     "output_type": "stream",
     "text": [
      "  8%|████████▌                                                                                                      | 77026/1000000 [3:08:41<48:00:36,  5.34it/s]"
     ]
    },
    {
     "name": "stdout",
     "output_type": "stream",
     "text": [
      "77024 error\n"
     ]
    },
    {
     "name": "stderr",
     "output_type": "stream",
     "text": [
      "  8%|████████▋                                                                                                      | 78000/1000000 [3:11:00<36:09:19,  7.08it/s]"
     ]
    },
    {
     "name": "stdout",
     "output_type": "stream",
     "text": [
      "step 78000 loss 2.5245306569337846\n"
     ]
    },
    {
     "name": "stderr",
     "output_type": "stream",
     "text": [
      "  8%|████████▋                                                                                                      | 78067/1000000 [3:11:11<47:24:33,  5.40it/s]"
     ]
    },
    {
     "name": "stdout",
     "output_type": "stream",
     "text": [
      "78066 error\n"
     ]
    },
    {
     "name": "stderr",
     "output_type": "stream",
     "text": [
      "  8%|████████▊                                                                                                      | 79000/1000000 [3:13:28<36:38:05,  6.98it/s]"
     ]
    },
    {
     "name": "stdout",
     "output_type": "stream",
     "text": [
      "step 79000 loss 2.545410198688507\n"
     ]
    },
    {
     "name": "stderr",
     "output_type": "stream",
     "text": [
      "  8%|████████▊                                                                                                      | 79524/1000000 [3:14:44<52:01:25,  4.91it/s]"
     ]
    },
    {
     "name": "stdout",
     "output_type": "stream",
     "text": [
      "79523 error\n"
     ]
    },
    {
     "name": "stderr",
     "output_type": "stream",
     "text": [
      "  8%|████████▊                                                                                                      | 79571/1000000 [3:14:51<41:21:22,  6.18it/s]"
     ]
    },
    {
     "name": "stdout",
     "output_type": "stream",
     "text": [
      "79569 error\n"
     ]
    },
    {
     "name": "stderr",
     "output_type": "stream",
     "text": [
      "  8%|████████▉                                                                                                      | 80000/1000000 [3:15:52<43:17:34,  5.90it/s]"
     ]
    },
    {
     "name": "stdout",
     "output_type": "stream",
     "text": [
      "step 80000 loss 2.505182058930397\n"
     ]
    },
    {
     "name": "stderr",
     "output_type": "stream",
     "text": [
      "  8%|████████▉                                                                                                      | 80990/1000000 [3:18:17<52:37:17,  4.85it/s]"
     ]
    },
    {
     "name": "stdout",
     "output_type": "stream",
     "text": [
      "80989 error\n"
     ]
    },
    {
     "name": "stderr",
     "output_type": "stream",
     "text": [
      "  8%|████████▉                                                                                                      | 81000/1000000 [3:18:19<40:49:49,  6.25it/s]"
     ]
    },
    {
     "name": "stdout",
     "output_type": "stream",
     "text": [
      "step 81000 loss 2.5250821310281752\n"
     ]
    },
    {
     "name": "stderr",
     "output_type": "stream",
     "text": [
      "  8%|█████████                                                                                                      | 82000/1000000 [3:20:44<37:19:08,  6.83it/s]"
     ]
    },
    {
     "name": "stdout",
     "output_type": "stream",
     "text": [
      "step 82000 loss 2.549904081583023\n"
     ]
    },
    {
     "name": "stderr",
     "output_type": "stream",
     "text": [
      "  8%|█████████▏                                                                                                     | 83000/1000000 [3:23:07<34:44:15,  7.33it/s]"
     ]
    },
    {
     "name": "stdout",
     "output_type": "stream",
     "text": [
      "step 83000 loss 2.5299790428876876\n"
     ]
    },
    {
     "name": "stderr",
     "output_type": "stream",
     "text": [
      "  8%|█████████▎                                                                                                     | 84000/1000000 [3:25:30<35:01:16,  7.27it/s]"
     ]
    },
    {
     "name": "stdout",
     "output_type": "stream",
     "text": [
      "step 84000 loss 2.4950354994535444\n"
     ]
    },
    {
     "name": "stderr",
     "output_type": "stream",
     "text": [
      "  8%|█████████▎                                                                                                     | 84444/1000000 [3:26:35<43:54:58,  5.79it/s]"
     ]
    },
    {
     "name": "stdout",
     "output_type": "stream",
     "text": [
      "84442 error\n"
     ]
    },
    {
     "name": "stderr",
     "output_type": "stream",
     "text": [
      "  8%|█████████▍                                                                                                     | 85000/1000000 [3:27:54<32:29:58,  7.82it/s]"
     ]
    },
    {
     "name": "stdout",
     "output_type": "stream",
     "text": [
      "step 85000 loss 2.525199409365654\n"
     ]
    },
    {
     "name": "stderr",
     "output_type": "stream",
     "text": [
      "  9%|█████████▌                                                                                                     | 85732/1000000 [3:29:41<46:56:25,  5.41it/s]"
     ]
    },
    {
     "name": "stdout",
     "output_type": "stream",
     "text": [
      "85731 error\n"
     ]
    },
    {
     "name": "stderr",
     "output_type": "stream",
     "text": [
      "  9%|█████████▌                                                                                                     | 86000/1000000 [3:30:20<35:05:15,  7.24it/s]"
     ]
    },
    {
     "name": "stdout",
     "output_type": "stream",
     "text": [
      "step 86000 loss 2.507654766321182\n"
     ]
    },
    {
     "name": "stderr",
     "output_type": "stream",
     "text": [
      "  9%|█████████▌                                                                                                     | 86612/1000000 [3:31:49<41:15:48,  6.15it/s]"
     ]
    },
    {
     "name": "stdout",
     "output_type": "stream",
     "text": [
      "86610 error\n"
     ]
    },
    {
     "name": "stderr",
     "output_type": "stream",
     "text": [
      "  9%|█████████▋                                                                                                     | 86926/1000000 [3:32:33<42:21:38,  5.99it/s]"
     ]
    },
    {
     "name": "stdout",
     "output_type": "stream",
     "text": [
      "86925 error\n"
     ]
    },
    {
     "name": "stderr",
     "output_type": "stream",
     "text": [
      "  9%|█████████▋                                                                                                     | 87000/1000000 [3:32:44<32:38:10,  7.77it/s]"
     ]
    },
    {
     "name": "stdout",
     "output_type": "stream",
     "text": [
      "step 87000 loss 2.5017355666160586\n"
     ]
    },
    {
     "name": "stderr",
     "output_type": "stream",
     "text": [
      "  9%|█████████▋                                                                                                     | 87033/1000000 [3:32:49<44:46:08,  5.66it/s]"
     ]
    },
    {
     "name": "stdout",
     "output_type": "stream",
     "text": [
      "87031 error\n"
     ]
    },
    {
     "name": "stderr",
     "output_type": "stream",
     "text": [
      "  9%|█████████▋                                                                                                     | 87045/1000000 [3:32:51<44:30:54,  5.70it/s]"
     ]
    },
    {
     "name": "stdout",
     "output_type": "stream",
     "text": [
      "87044 error\n"
     ]
    },
    {
     "name": "stderr",
     "output_type": "stream",
     "text": [
      "  9%|█████████▋                                                                                                     | 87051/1000000 [3:32:52<43:57:23,  5.77it/s]"
     ]
    },
    {
     "name": "stdout",
     "output_type": "stream",
     "text": [
      "87050 error\n"
     ]
    },
    {
     "name": "stderr",
     "output_type": "stream",
     "text": [
      "  9%|█████████▋                                                                                                     | 87640/1000000 [3:34:15<39:44:05,  6.38it/s]"
     ]
    },
    {
     "name": "stdout",
     "output_type": "stream",
     "text": [
      "87638 error\n"
     ]
    },
    {
     "name": "stderr",
     "output_type": "stream",
     "text": [
      "  9%|█████████▊                                                                                                     | 87894/1000000 [3:34:51<40:43:18,  6.22it/s]"
     ]
    },
    {
     "name": "stdout",
     "output_type": "stream",
     "text": [
      "87892 error\n"
     ]
    },
    {
     "name": "stderr",
     "output_type": "stream",
     "text": [
      "  9%|█████████▊                                                                                                     | 88000/1000000 [3:35:06<36:34:25,  6.93it/s]"
     ]
    },
    {
     "name": "stdout",
     "output_type": "stream",
     "text": [
      "step 88000 loss 2.490928893208504\n"
     ]
    },
    {
     "name": "stderr",
     "output_type": "stream",
     "text": [
      "  9%|█████████▊                                                                                                     | 88201/1000000 [3:35:36<43:49:48,  5.78it/s]"
     ]
    },
    {
     "name": "stdout",
     "output_type": "stream",
     "text": [
      "88200 error\n"
     ]
    },
    {
     "name": "stderr",
     "output_type": "stream",
     "text": [
      "  9%|█████████▉                                                                                                     | 89000/1000000 [3:37:27<34:28:15,  7.34it/s]"
     ]
    },
    {
     "name": "stdout",
     "output_type": "stream",
     "text": [
      "step 89000 loss 2.4907592519521713\n"
     ]
    },
    {
     "name": "stderr",
     "output_type": "stream",
     "text": [
      "  9%|█████████▉                                                                                                     | 90000/1000000 [3:39:48<36:28:51,  6.93it/s]"
     ]
    },
    {
     "name": "stdout",
     "output_type": "stream",
     "text": [
      "step 90000 loss 2.470997887611389\n"
     ]
    },
    {
     "name": "stderr",
     "output_type": "stream",
     "text": [
      "  9%|██████████                                                                                                     | 90105/1000000 [3:40:04<38:41:52,  6.53it/s]"
     ]
    },
    {
     "name": "stdout",
     "output_type": "stream",
     "text": [
      "90103 error\n"
     ]
    },
    {
     "name": "stderr",
     "output_type": "stream",
     "text": [
      "  9%|██████████                                                                                                     | 90172/1000000 [3:40:13<46:55:58,  5.38it/s]"
     ]
    },
    {
     "name": "stdout",
     "output_type": "stream",
     "text": [
      "90171 error\n"
     ]
    },
    {
     "name": "stderr",
     "output_type": "stream",
     "text": [
      "  9%|██████████                                                                                                     | 91000/1000000 [3:42:15<33:44:17,  7.48it/s]"
     ]
    },
    {
     "name": "stdout",
     "output_type": "stream",
     "text": [
      "step 91000 loss 2.4657031892538073\n"
     ]
    },
    {
     "name": "stderr",
     "output_type": "stream",
     "text": [
      "  9%|██████████                                                                                                     | 91140/1000000 [3:42:36<45:55:51,  5.50it/s]"
     ]
    },
    {
     "name": "stdout",
     "output_type": "stream",
     "text": [
      "91139 error\n"
     ]
    },
    {
     "name": "stderr",
     "output_type": "stream",
     "text": [
      "  9%|██████████▏                                                                                                    | 92000/1000000 [3:44:42<36:04:25,  6.99it/s]"
     ]
    },
    {
     "name": "stdout",
     "output_type": "stream",
     "text": [
      "step 92000 loss 2.4919466658830642\n"
     ]
    },
    {
     "name": "stderr",
     "output_type": "stream",
     "text": [
      "  9%|██████████▎                                                                                                    | 92531/1000000 [3:46:02<43:52:39,  5.74it/s]"
     ]
    },
    {
     "name": "stdout",
     "output_type": "stream",
     "text": [
      "92530 error\n"
     ]
    },
    {
     "name": "stderr",
     "output_type": "stream",
     "text": [
      "  9%|██████████▎                                                                                                    | 93000/1000000 [3:47:10<37:39:19,  6.69it/s]"
     ]
    },
    {
     "name": "stdout",
     "output_type": "stream",
     "text": [
      "step 93000 loss 2.498869201540947\n"
     ]
    },
    {
     "name": "stderr",
     "output_type": "stream",
     "text": [
      "  9%|██████████▍                                                                                                    | 94000/1000000 [3:49:47<34:45:31,  7.24it/s]"
     ]
    },
    {
     "name": "stdout",
     "output_type": "stream",
     "text": [
      "step 94000 loss 2.471051108241081\n"
     ]
    },
    {
     "name": "stderr",
     "output_type": "stream",
     "text": [
      " 10%|██████████▌                                                                                                    | 95000/1000000 [3:52:13<41:27:54,  6.06it/s]"
     ]
    },
    {
     "name": "stdout",
     "output_type": "stream",
     "text": [
      "step 95000 loss 2.4653031052350998\n"
     ]
    },
    {
     "name": "stderr",
     "output_type": "stream",
     "text": [
      " 10%|██████████▋                                                                                                    | 96000/1000000 [3:54:36<37:28:06,  6.70it/s]"
     ]
    },
    {
     "name": "stdout",
     "output_type": "stream",
     "text": [
      "step 96000 loss 2.456065447807312\n"
     ]
    },
    {
     "name": "stderr",
     "output_type": "stream",
     "text": [
      " 10%|██████████▋                                                                                                    | 96290/1000000 [3:55:19<45:33:59,  5.51it/s]"
     ]
    },
    {
     "name": "stdout",
     "output_type": "stream",
     "text": [
      "96289 error\n"
     ]
    },
    {
     "name": "stderr",
     "output_type": "stream",
     "text": [
      " 10%|██████████▋                                                                                                    | 96443/1000000 [3:55:41<44:01:44,  5.70it/s]"
     ]
    },
    {
     "name": "stdout",
     "output_type": "stream",
     "text": [
      "96442 error\n"
     ]
    },
    {
     "name": "stderr",
     "output_type": "stream",
     "text": [
      " 10%|██████████▊                                                                                                    | 97000/1000000 [3:56:59<34:58:47,  7.17it/s]"
     ]
    },
    {
     "name": "stdout",
     "output_type": "stream",
     "text": [
      "step 97000 loss 2.4561500185728073\n"
     ]
    },
    {
     "name": "stderr",
     "output_type": "stream",
     "text": [
      " 10%|██████████▉                                                                                                    | 98000/1000000 [3:59:39<35:13:55,  7.11it/s]"
     ]
    },
    {
     "name": "stdout",
     "output_type": "stream",
     "text": [
      "step 98000 loss 2.4516795359849928\n"
     ]
    },
    {
     "name": "stderr",
     "output_type": "stream",
     "text": [
      " 10%|██████████▉                                                                                                    | 99000/1000000 [4:02:03<36:05:08,  6.94it/s]"
     ]
    },
    {
     "name": "stdout",
     "output_type": "stream",
     "text": [
      "step 99000 loss 2.4303784697055817\n"
     ]
    },
    {
     "name": "stderr",
     "output_type": "stream",
     "text": [
      " 10%|███████████                                                                                                   | 100000/1000000 [4:04:28<34:50:00,  7.18it/s]"
     ]
    },
    {
     "name": "stdout",
     "output_type": "stream",
     "text": [
      "step 100000 loss 2.4621217663288117\n"
     ]
    },
    {
     "name": "stderr",
     "output_type": "stream",
     "text": [
      " 10%|███████████                                                                                                   | 100347/1000000 [4:05:18<44:59:25,  5.55it/s]"
     ]
    },
    {
     "name": "stdout",
     "output_type": "stream",
     "text": [
      "100345 error\n"
     ]
    },
    {
     "name": "stderr",
     "output_type": "stream",
     "text": [
      " 10%|███████████                                                                                                   | 101000/1000000 [4:06:49<32:37:05,  7.66it/s]"
     ]
    },
    {
     "name": "stdout",
     "output_type": "stream",
     "text": [
      "step 101000 loss 2.4797886831760407\n"
     ]
    },
    {
     "name": "stderr",
     "output_type": "stream",
     "text": [
      " 10%|███████████▏                                                                                                  | 102000/1000000 [4:09:13<34:48:03,  7.17it/s]"
     ]
    },
    {
     "name": "stdout",
     "output_type": "stream",
     "text": [
      "step 102000 loss 2.4141905872821807\n"
     ]
    },
    {
     "name": "stderr",
     "output_type": "stream",
     "text": [
      " 10%|███████████▏                                                                                                  | 102059/1000000 [4:09:23<43:38:43,  5.71it/s]"
     ]
    },
    {
     "name": "stdout",
     "output_type": "stream",
     "text": [
      "102058 error\n"
     ]
    },
    {
     "name": "stderr",
     "output_type": "stream",
     "text": [
      " 10%|███████████▎                                                                                                  | 102981/1000000 [4:11:49<84:22:07,  2.95it/s]"
     ]
    },
    {
     "name": "stdout",
     "output_type": "stream",
     "text": [
      "102981 error\n"
     ]
    },
    {
     "name": "stderr",
     "output_type": "stream",
     "text": [
      " 10%|███████████▎                                                                                                  | 103000/1000000 [4:11:54<41:07:16,  6.06it/s]"
     ]
    },
    {
     "name": "stdout",
     "output_type": "stream",
     "text": [
      "step 103000 loss 2.423316733121872\n"
     ]
    },
    {
     "name": "stderr",
     "output_type": "stream",
     "text": [
      " 10%|███████████▍                                                                                                  | 104000/1000000 [4:14:26<31:01:36,  8.02it/s]"
     ]
    },
    {
     "name": "stdout",
     "output_type": "stream",
     "text": [
      "step 104000 loss 2.445043671607971\n"
     ]
    },
    {
     "name": "stderr",
     "output_type": "stream",
     "text": [
      " 10%|███████████▌                                                                                                  | 105000/1000000 [4:17:46<35:39:00,  6.97it/s]"
     ]
    },
    {
     "name": "stdout",
     "output_type": "stream",
     "text": [
      "step 105000 loss 2.405325747847557\n"
     ]
    },
    {
     "name": "stderr",
     "output_type": "stream",
     "text": [
      " 11%|███████████▋                                                                                                  | 106000/1000000 [4:20:39<32:28:21,  7.65it/s]"
     ]
    },
    {
     "name": "stdout",
     "output_type": "stream",
     "text": [
      "step 106000 loss 2.436335830450058\n"
     ]
    },
    {
     "name": "stderr",
     "output_type": "stream",
     "text": [
      " 11%|███████████▊                                                                                                  | 107000/1000000 [4:23:01<32:38:50,  7.60it/s]"
     ]
    },
    {
     "name": "stdout",
     "output_type": "stream",
     "text": [
      "step 107000 loss 2.47007333958149\n"
     ]
    },
    {
     "name": "stderr",
     "output_type": "stream",
     "text": [
      " 11%|███████████▊                                                                                                  | 107036/1000000 [4:23:08<36:11:52,  6.85it/s]"
     ]
    }
   ],
   "source": [
    "report_steps = 1000  # раз в сколько шагов печатаем результат\n",
    "epochs = 1  # сколько раз мы покажем данные модели\n",
    "\n",
    "encoder.train()\n",
    "decoder.train()\n",
    "\n",
    "data_iterator = iter(dataset)\n",
    "for epoch in range(epochs):\n",
    "    for i in tqdm(range(1_000_000)):\n",
    "        batch = []\n",
    "        \n",
    "        # Not all entities are good\n",
    "        while len(batch) != batch_size:\n",
    "            sample = next(data_iterator)\n",
    "            if len(sample.ent) < 3:\n",
    "                continue\n",
    "            if len(enc_tokenizer(sample.text, truncation=False)[\"input_ids\"]) > 512:\n",
    "                continue\n",
    "                \n",
    "            batch.append(sample)\n",
    "        \n",
    "        try:\n",
    "            embeddings = encode(batch).to(decoder.device)\n",
    "        except ValueError:\n",
    "            # This may happen for example if entity failed to match\n",
    "            continue\n",
    "        \n",
    "        texts = [s.text for s in batch]\n",
    "        y = dec_tokenizer(texts, return_tensors='pt', padding=True).to(decoder.device)\n",
    "        # -100 - специальное значение, позволяющее не учитывать токены\n",
    "        y.input_ids[y.input_ids == 0] = -100\n",
    "        # вычисляем функцию потерь\n",
    "        try:\n",
    "            loss = decoder(\n",
    "                encoder_outputs=BaseModelOutput(last_hidden_state=embeddings.unsqueeze(1)),\n",
    "                labels=y.input_ids,\n",
    "                decoder_attention_mask=y.attention_mask,\n",
    "                return_dict=True\n",
    "            ).loss\n",
    "            # делаем шаг градиентного спуска\n",
    "            loss.backward()\n",
    "            optimizer.step()\n",
    "            optimizer.zero_grad(set_to_none=True)\n",
    "        except RuntimeError:\n",
    "            print(i, 'error')\n",
    "            loss = None\n",
    "            optimizer.zero_grad(set_to_none=True)\n",
    "            gc.collect()\n",
    "            torch.cuda.empty_cache()\n",
    "            continue\n",
    "            \n",
    "        # печатаем скользящее среднее значение функции потерь\n",
    "        losses.append(loss.item())\n",
    "        if i % report_steps == 0:\n",
    "            print('step', i, 'loss', np.mean(losses[-report_steps:]))\n",
    "            decoder.save_pretrained(save_model_path)"
   ]
  },
  {
   "cell_type": "code",
   "execution_count": 221,
   "id": "3c5660d5-0883-4719-b9ec-5d21ed995b5f",
   "metadata": {
    "colab": {
     "base_uri": "https://localhost:8080/",
     "height": 284
    },
    "id": "Vjf6SNJCHoRK",
    "outputId": "8f54b314-7f6a-4242-9260-99899ff3718e"
   },
   "outputs": [
    {
     "data": {
      "text/plain": [
       "197453"
      ]
     },
     "execution_count": 221,
     "metadata": {},
     "output_type": "execute_result"
    },
    {
     "data": {
      "image/png": "[encoded data removed]",
      "text/plain": [
       "<Figure size 432x288 with 1 Axes>"
      ]
     },
     "metadata": {
      "needs_background": "light"
     },
     "output_type": "display_data"
    }
   ],
   "source": [
    "pd.Series(losses).ewm(1000).mean()[1000:].plot();\n",
    "len(losses)"
   ]
  },
  {
   "cell_type": "code",
   "execution_count": null,
   "id": "04c0a261-1e7c-4881-a4aa-a96ed069a3c5",
   "metadata": {
    "id": "hFaiHDZw2kSZ"
   },
   "outputs": [],
   "source": [
    "loss = None\n",
    "optimizer.zero_grad(set_to_none=True)\n",
    "gc.collect()\n",
    "torch.cuda.empty_cache()"
   ]
  },
  {
   "cell_type": "code",
   "execution_count": 248,
   "id": "676e3b2e-82ae-4e00-af60-9c880aaf6afe",
   "metadata": {},
   "outputs": [
    {
     "data": {
      "text/plain": [
       "\u001b[0;31mInit signature:\u001b[0m \u001b[0mPhrasalConstraint\u001b[0m\u001b[0;34m(\u001b[0m\u001b[0mtoken_ids\u001b[0m\u001b[0;34m:\u001b[0m \u001b[0mList\u001b[0m\u001b[0;34m[\u001b[0m\u001b[0mint\u001b[0m\u001b[0;34m]\u001b[0m\u001b[0;34m)\u001b[0m\u001b[0;34m\u001b[0m\u001b[0;34m\u001b[0m\u001b[0m\n",
       "\u001b[0;31mDocstring:\u001b[0m     \n",
       "[`Constraint`] enforcing that an ordered sequence of tokens is included in the output.\n",
       "\n",
       "Args:\n",
       "    token_ids (`List[int]`):\n",
       "        The id of the token that must be generated by the output.\n",
       "\u001b[0;31mFile:\u001b[0m           ~/code/research_mention_decoder/.venv/lib/python3.10/site-packages/transformers/generation_beam_constraints.py\n",
       "\u001b[0;31mType:\u001b[0m           ABCMeta\n",
       "\u001b[0;31mSubclasses:\u001b[0m     \n"
      ]
     },
     "metadata": {},
     "output_type": "display_data"
    }
   ],
   "source": [
    "PhrasalConstraint?"
   ]
  },
  {
   "cell_type": "code",
   "execution_count": 274,
   "id": "c6bba2ed-7408-44f9-859e-af3d3ceae655",
   "metadata": {},
   "outputs": [],
   "source": [
    "force_words = [s.ent for s in batch]\n",
    "constraints = [\n",
    "    PhrasalConstraint(\n",
    "        dec_tokenizer(w).input_ids\n",
    "    )\n",
    "    for w in force_words\n",
    "]\n",
    "# force_words_ids = [\n",
    "#     dec_tokenizer(force_words, add_special_tokens=False).input_ids,\n",
    "#     # tokenizer(force_flexible, add_prefix_space=True, add_special_tokens=False).input_ids,\n",
    "# ]\n",
    "force_word_ids = dec_tokenizer(force_words, add_special_tokens=False).input_ids"
   ]
  },
  {
   "cell_type": "code",
   "execution_count": 275,
   "id": "1b243763-53d0-475d-a0d1-1cd127c5c439",
   "metadata": {},
   "outputs": [
    {
     "data": {
      "text/plain": [
       "[[1426, 10486, 277],\n",
       " [259, 12910, 259, 277, 19418, 24355, 833, 277],\n",
       " [6243, 6716, 354],\n",
       " [10726, 6776, 18479, 9308, 4893, 274, 2167, 14706, 271],\n",
       " [1426, 10486, 259, 277, 2814, 16649],\n",
       " [259, 277, 24536],\n",
       " [1426, 10486, 1483, 16649, 277]]"
      ]
     },
     "execution_count": 275,
     "metadata": {},
     "output_type": "execute_result"
    }
   ],
   "source": [
    "force_word_ids"
   ]
  },
  {
   "cell_type": "code",
   "execution_count": 276,
   "id": "12ba2c3a-48a2-4aca-9f62-cc192fbafffb",
   "metadata": {},
   "outputs": [
    {
     "data": {
      "text/plain": [
       "[<transformers.generation_beam_constraints.PhrasalConstraint at 0x7f462549beb0>,\n",
       " <transformers.generation_beam_constraints.PhrasalConstraint at 0x7f46236fec20>,\n",
       " <transformers.generation_beam_constraints.PhrasalConstraint at 0x7f4624a6f7f0>,\n",
       " <transformers.generation_beam_constraints.PhrasalConstraint at 0x7f461c54ebf0>,\n",
       " <transformers.generation_beam_constraints.PhrasalConstraint at 0x7f461c54c370>,\n",
       " <transformers.generation_beam_constraints.PhrasalConstraint at 0x7f461c54fd60>,\n",
       " <transformers.generation_beam_constraints.PhrasalConstraint at 0x7f461c54da20>]"
      ]
     },
     "execution_count": 276,
     "metadata": {},
     "output_type": "execute_result"
    }
   ],
   "source": [
    "constraints"
   ]
  },
  {
   "cell_type": "code",
   "execution_count": 277,
   "id": "4e69b719-6ce3-47ae-b6ff-c948e9fd7952",
   "metadata": {},
   "outputs": [
    {
     "data": {
      "text/plain": [
       "torch.Size([1, 1, 768])"
      ]
     },
     "execution_count": 277,
     "metadata": {},
     "output_type": "execute_result"
    }
   ],
   "source": [
    "next(iter(embeddings)).unsqueeze(0).unsqueeze(0).shape"
   ]
  },
  {
   "cell_type": "code",
   "execution_count": 282,
   "id": "42e59358-5412-485a-9937-01943c2ba881",
   "metadata": {
    "colab": {
     "base_uri": "https://localhost:8080/"
    },
    "id": "Nzgkez2z5A3w",
    "outputId": "25410c76-c40a-44a7-bf72-2f4692096517"
   },
   "outputs": [
    {
     "name": "stdout",
     "output_type": "stream",
     "text": [
      "Original:\t'Интер РАО' продолжает рассматривать возможность вторичного размещения своих акций за рубежом.\t[РАО']\n",
      "Coonstrained:\t'Интер РАО' продолжает рассматривать возможность размещения активов на других международных площадках.\n",
      "True\n",
      "Unconstrained:\t'РАО 'Интер РАО' продолжает рассматривать возможности по открытию инвестиций в другие страны.\n",
      "True\n",
      "-----------\n",
      "Original:\t1,4% — НК 'Роснефть'.\t[НК 'Роснефть']\n",
      "Coonstrained:\tНК 'Роснефть', принадлежащая НПО 'Роснефти'.\n",
      "True\n",
      "Unconstrained:\tЭто - 'Роснефть'.\n",
      "False\n",
      "-----------\n",
      "Original:\t14,8% — напрямую Росимуществу;\t[Росимуществу]\n",
      "Coonstrained:\tНК 'Роснефть' непосредственно вступает в реестр, почти половину чистой прибыли.\n",
      "False\n",
      "Unconstrained:\tОфициально его доля непосредственно принадлежит Росимуществу.\n",
      "True\n",
      "-----------\n",
      "Original:\tКрупнейший пакет акций (19,95%) принадлежит Федеральной сетевой компании (ФСК);\t[Федеральной сетевой компании (ФСК)]\n",
      "Coonstrained:\tВ НК 'Роснефть' принадлежит почти половина всех активов (25%), входящих в реестр.\n",
      "False\n",
      "Unconstrained:\tНаибольшая доля рынка принадлежит Федеральной сетевой компании (ФСК), которая составляет 25,25%.\n",
      "True\n",
      "-----------\n",
      "Original:\tПосле размещения 'большой допэмиссии', в рамках которой 'Интер РАО' в обмен на свои новые акции получило от государства и госкомпаний неприватизированные при реформе РАО 'ЕЭС России' энергоактивы, у компании нет контролирующего акционера.\t[РАО 'ЕЭС]\n",
      "Coonstrained:\tВ НК 'Роснефть' после принятия нового пакета акций, в котором были включены новые активы от акционеров АО 'ЭЭСР-Европа', компания получила небольшие дивиденды по собственному капиталу и энергоресурсам.\n",
      "False\n",
      "Unconstrained:\tВ результате 'Росэнергоатома' в рамках приватизации негосударственного пенсионного фонда, который был создан на основе собственных акций компании, компания получила от акционеров новые энергопакеты 'ЭЭСР-Европа' и 'ЕЭС России'.\n",
      "False\n",
      "-----------\n",
      "Original:\tНо, добавил он, по фондам ведется работа, и, если позволит конъюнктура, к концу года 'Интер РАО' 'может их обозначить'.\t['Интер]\n",
      "Coonstrained:\tНо НК 'Роснефть', по его мнению, позволит провести переговоры в течение длительного времени, и мы надеемся, что эти условия будут реализованы.\n",
      "False\n",
      "Unconstrained:\tНо, полагают в 'Интер РАО', он позволит сделать это до конца года, и мы сможем определить, какие объемы будут реализованы.\n",
      "True\n",
      "-----------\n",
      "Original:\t'Интер РАО ЕЭС' признало, что в качестве стратегических инвесторов привлечет скорее инвестфонды, а не зарубежных профильных партнеров.\t[РАО ЕЭС']\n",
      "Coonstrained:\t'Интер РАО' предлагает привлечь иностранных инвестиционных партнеров, не входящих в международные рейтинговые агентства, как и традиционные.\n",
      "False\n",
      "Unconstrained:\t'Интер РАО' принял решение, что иностранные инвестиционные фонды будут использоваться не только в качестве партнеров, но и на основе международных инвесторов.\n",
      "False\n",
      "-----------\n"
     ]
    }
   ],
   "source": [
    "encoder.eval()\n",
    "embeddings = encode(batch)\n",
    "decoder.eval()\n",
    "\n",
    "out_unc = decoder.generate(\n",
    "    encoder_outputs=BaseModelOutput(last_hidden_state=embeddings.unsqueeze(1)),\n",
    "    num_beams=2,\n",
    "    max_length=256, \n",
    "    repetition_penalty=3.0)\n",
    "\n",
    "out = decoder.generate(\n",
    "    encoder_outputs=BaseModelOutput(last_hidden_state=embeddings.unsqueeze(1)), \n",
    "    # constraints=constraints,\n",
    "    force_words_ids=[force_word_ids],\n",
    "    num_beams=2,\n",
    "    max_length=512, \n",
    "    repetition_penalty=3.0)\n",
    "\n",
    "\n",
    "for s, o, ou in zip(batch, out, out_unc):\n",
    "    \n",
    "    print(\"Original:\", s.text, f\"[{s.ent}]\", sep=\"\\t\")\n",
    "    t = dec_tokenizer.decode(o, skip_special_tokens=True)\n",
    "    print(\"Constrained:\", t, sep=\"\\t\")\n",
    "    print(s.ent in t)\n",
    "    t = dec_tokenizer.decode(ou, skip_special_tokens=True)\n",
    "    print(\"Unconstrained:\", t, sep=\"\\t\")\n",
    "    print(s.ent in t)\n",
    "    print('-----------')\n",
    "    "
   ]
  },
  {
   "cell_type": "code",
   "execution_count": 283,
   "id": "7f134860-fa60-4ff4-8a1a-6c3a9abbb611",
   "metadata": {
    "colab": {
     "base_uri": "https://localhost:8080/"
    },
    "id": "Nzgkez2z5A3w",
    "outputId": "25410c76-c40a-44a7-bf72-2f4692096517"
   },
   "outputs": [
    {
     "name": "stdout",
     "output_type": "stream",
     "text": [
      "Original:\t'Интер РАО' продолжает рассматривать возможность вторичного размещения своих акций за рубежом.\t[РАО']\n",
      "Coonstrained:\tРАО' продолжает рассматривать новые возможности по продаже активов на международном рынке.\n",
      "True\n",
      "-----------\n",
      "Original:\t1,4% — НК 'Роснефть'.\t[НК 'Роснефть']\n",
      "Coonstrained:\tНК 'Роснефть', принадлежащая НПО 'Роснефти'.\n",
      "True\n",
      "-----------\n",
      "Original:\t14,8% — напрямую Росимуществу;\t[Росимуществу]\n",
      "Coonstrained:\tРосимуществу, скорее всего, принадлежит 14,9% акций Ренессанс Капитала.\n",
      "True\n",
      "-----------\n",
      "Original:\tКрупнейший пакет акций (19,95%) принадлежит Федеральной сетевой компании (ФСК);\t[Федеральной сетевой компании (ФСК)]\n",
      "Coonstrained:\tФедеральной сетевой компании (ФСК) является крупнейшим участником сделки — 19,25%.\n",
      "True\n",
      "-----------\n",
      "Original:\tПосле размещения 'большой допэмиссии', в рамках которой 'Интер РАО' в обмен на свои новые акции получило от государства и госкомпаний неприватизированные при реформе РАО 'ЕЭС России' энергоактивы, у компании нет контролирующего акционера.\t[РАО 'ЕЭС]\n",
      "Coonstrained:\tРАО 'ЕЭС России' после приватизации в рамках государственной собственности, которая создана на основе негосударственного пенсионного фонда, получило от государства дополнительные дивиденды — 'Росэнергоатома' и 'Евросети'.\n",
      "True\n",
      "-----------\n",
      "Original:\tНо, добавил он, по фондам ведется работа, и, если позволит конъюнктура, к концу года 'Интер РАО' 'может их обозначить'.\t['Интер]\n",
      "Coonstrained:\tНо 'Интер РАО', по его мнению, позволит провести долгосрочные контракты, а в конце концов, если будут достигнуты договоренности, то это позволит обеспечить рынок.\n",
      "True\n",
      "-----------\n",
      "Original:\t'Интер РАО ЕЭС' признало, что в качестве стратегических инвесторов привлечет скорее инвестфонды, а не зарубежных профильных партнеров.\t[РАО ЕЭС']\n",
      "Coonstrained:\tРАО ЕЭС' считает, что иностранные партнеры приняли участие в качестве крупнейшего инвестиционного партнера по международным инвестициям (IAR).\n",
      "True\n",
      "-----------\n"
     ]
    }
   ],
   "source": [
    "for s, emb, fwi in zip(batch, embeddings, force_word_ids):\n",
    "    emb = emb.unsqueeze(0).unsqueeze(0)\n",
    "    out = decoder.generate(\n",
    "        encoder_outputs=BaseModelOutput(last_hidden_state=emb), \n",
    "        # constraints=constraints,\n",
    "        force_words_ids=[[fwi]],\n",
    "        num_beams=2,\n",
    "        max_length=512, \n",
    "        repetition_penalty=3.0)\n",
    "    t = dec_tokenizer.decode(out[0], skip_special_tokens=True)\n",
    "    \n",
    "    print(\"Original:\", s.text, f\"[{s.ent}]\", sep=\"\\t\")\n",
    "    print(\"Constrained:\", t, sep=\"\\t\")\n",
    "    print(s.ent in t)\n",
    "    print('-----------')"
   ]
  },
  {
   "cell_type": "code",
   "execution_count": null,
   "id": "fe6e167f-e07c-4507-91bd-2539c29f39ab",
   "metadata": {
    "colab": {
     "base_uri": "https://localhost:8080/"
    },
    "id": "5XRBxN7I5HPY",
    "outputId": "9a4cd759-6ce7-4cbb-c535-4e48aa95171a"
   },
   "outputs": [
    {
     "data": {
      "text/plain": [
       "('/gd/MyDrive/models/rut5-base-labse-decoder/tokenizer_config.json',\n",
       " '/gd/MyDrive/models/rut5-base-labse-decoder/special_tokens_map.json',\n",
       " '/gd/MyDrive/models/rut5-base-labse-decoder/spiece.model',\n",
       " '/gd/MyDrive/models/rut5-base-labse-decoder/added_tokens.json',\n",
       " '/gd/MyDrive/models/rut5-base-labse-decoder/tokenizer.json')"
      ]
     },
     "execution_count": 72,
     "metadata": {},
     "output_type": "execute_result"
    }
   ],
   "source": [
    "decoder.save_pretrained(save_model_path)\n",
    "dec_tokenizer.save_pretrained(save_model_path)"
   ]
  },
  {
   "cell_type": "code",
   "execution_count": null,
   "id": "ee42fa52-dea2-4f27-b4a8-da69c8ec44be",
   "metadata": {
    "id": "hepP-7JlDpnz"
   },
   "outputs": [],
   "source": [
    "decoder.eval();"
   ]
  },
  {
   "cell_type": "code",
   "execution_count": null,
   "id": "6d222569-2119-40e0-bb1e-2ca2601389c7",
   "metadata": {
    "colab": {
     "base_uri": "https://localhost:8080/"
    },
    "id": "PIKTzYKp99xA",
    "outputId": "332907a9-cbd3-470f-9747-2d85a1adb667"
   },
   "outputs": [
    {
     "name": "stdout",
     "output_type": "stream",
     "text": [
      "torch.Size([4, 768])\n"
     ]
    }
   ],
   "source": [
    "embeddings = encode([\n",
    "    \"4 декабря 2000 года\",\n",
    "    \"Давно такого не читала, очень хорошо пишешь!\",\n",
    "    \"Я тогда не понимала, что происходит, не понимаю и сейчас.\",\n",
    "    \"London is the capital of Great Britain.\",\n",
    "])\n",
    "print(embeddings.shape)\n",
    "# torch.Size([4, 768])"
   ]
  },
  {
   "cell_type": "code",
   "execution_count": null,
   "id": "3d132f2f-9a40-4cb5-ab8b-dc99cd1e3942",
   "metadata": {
    "colab": {
     "base_uri": "https://localhost:8080/"
    },
    "id": "ME1rDY7DDigx",
    "outputId": "08364a1f-0293-419e-f9cd-e68681b03803"
   },
   "outputs": [
    {
     "name": "stdout",
     "output_type": "stream",
     "text": [
      "После 4 декабря 2000 года\n",
      "Не так давно, это многое читала!\n",
      "Я не понимала того, что происходит сейчас тогда, дальше.\n",
      "Британская столица Англии.\n"
     ]
    }
   ],
   "source": [
    "for text in decode(embeddings):\n",
    "    print(text)"
   ]
  },
  {
   "cell_type": "code",
   "execution_count": null,
   "id": "5f36da5e-0c44-4311-b993-7f38372c44b1",
   "metadata": {
    "id": "29VY-rRQKhzG"
   },
   "outputs": [],
   "source": []
  }
 ],
 "metadata": {
  "kernelspec": {
   "display_name": "Mention decoder",
   "language": "python",
   "name": "mention-decoder"
  },
  "language_info": {
   "codemirror_mode": {
    "name": "ipython",
    "version": 3
   },
   "file_extension": ".py",
   "mimetype": "text/x-python",
   "name": "python",
   "nbconvert_exporter": "python",
   "pygments_lexer": "ipython3",
   "version": "3.10.4"
  }
 },
 "nbformat": 4,
 "nbformat_minor": 5
}
